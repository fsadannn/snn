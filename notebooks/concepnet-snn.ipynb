{
 "cells": [
  {
   "cell_type": "code",
   "execution_count": 2,
   "metadata": {},
   "outputs": [
    {
     "name": "stdout",
     "output_type": "stream",
     "text": [
      "Requirement already satisfied: networkx in /usr/local/lib/python3.5/dist-packages (2.2)\n",
      "Requirement already satisfied: decorator>=4.3.0 in /usr/local/lib/python3.5/dist-packages (from networkx) (4.3.0)\n",
      "\u001b[33mYou are using pip version 18.1, however version 19.0.1 is available.\n",
      "You should consider upgrading via the 'pip install --upgrade pip' command.\u001b[0m\n"
     ]
    }
   ],
   "source": [
    "!pip install networkx \n",
    "import networkx as nx"
   ]
  },
  {
   "cell_type": "code",
   "execution_count": 3,
   "metadata": {},
   "outputs": [],
   "source": [
    "graph = nx.read_gexf(\"../data/concepnet-best.gexf\")\n",
    "dot = nx.nx_pydot.to_pydot(graph)\n",
    "dot.set_rankdir(\"LR\")\n",
    "dot.write_pdf(\"../data/conceptnet.pdf\")"
   ]
  },
  {
   "cell_type": "code",
   "execution_count": 4,
   "metadata": {},
   "outputs": [
    {
     "name": "stderr",
     "output_type": "stream",
     "text": [
      "Using TensorFlow backend.\n"
     ]
    }
   ],
   "source": [
    "from snn.base import Entity, Relation, SNN"
   ]
  },
  {
   "cell_type": "code",
   "execution_count": 5,
   "metadata": {},
   "outputs": [],
   "source": [
    "nodes = list(nx.topological_sort(graph))\n",
    "nodes.reverse()"
   ]
  },
  {
   "cell_type": "code",
   "execution_count": 55,
   "metadata": {},
   "outputs": [],
   "source": [
    "entities = {}\n",
    "\n",
    "for n in nodes:\n",
    "    parents = list(graph.neighbors(n))\n",
    "    parents = {entities[p] for p in parents}\n",
    "    entity = Entity(n, *parents)\n",
    "    entities[n] = entity\n",
    "    \n",
    "entities['*'] = Entity('everything', *[e for e in entities.values() if not e.children])"
   ]
  },
  {
   "cell_type": "code",
   "execution_count": 7,
   "metadata": {},
   "outputs": [],
   "source": [
    "import pandas as pd\n",
    "import tqdm\n",
    "import json"
   ]
  },
  {
   "cell_type": "code",
   "execution_count": 58,
   "metadata": {},
   "outputs": [
    {
     "data": {
      "text/plain": [
       "[Synonym(<everything> , <everything>),\n",
       " Causes(<everything> , <everything>),\n",
       " Antonym(<everything> , <everything>),\n",
       " Desires(<everything> , <everything>),\n",
       " UsedFor(<everything> , <everything>),\n",
       " InstanceOf(<everything> , <everything>),\n",
       " DerivedFrom(<everything> , <everything>),\n",
       " HasContext(<everything> , <everything>),\n",
       " SimilarTo(<everything> , <everything>),\n",
       " PartOf(<everything> , <everything>),\n",
       " AtLocation(<everything> , <everything>),\n",
       " MannerOf(<everything> , <everything>),\n",
       " DistinctFrom(<everything> , <everything>),\n",
       " NotDesires(<everything> , <everything>),\n",
       " EtymologicallyRelatedTo(<everything> , <everything>),\n",
       " occupation(<everything> , <everything>),\n",
       " HasPrerequisite(<everything> , <everything>),\n",
       " Entails(<everything> , <everything>),\n",
       " HasSubevent(<everything> , <everything>)]"
      ]
     },
     "execution_count": 58,
     "metadata": {},
     "output_type": "execute_result"
    }
   ],
   "source": [
    "snn_relations = []\n",
    "relation_labels = set()\n",
    "\n",
    "for i, (src, dst, r) in enumerate(json.load(open(\"../data/concepnet-relations.json\"))):\n",
    "    r = r.split(\"/\")[-1]\n",
    "    if r not in relation_labels:\n",
    "        snn_relations.append(Relation(label=r, src=entities['*'], dst=entities['*']))\n",
    "        relation_labels.add(r)\n",
    "    \n",
    "snn_relations"
   ]
  },
  {
   "cell_type": "code",
   "execution_count": 12,
   "metadata": {},
   "outputs": [],
   "source": [
    "def build_concepnet_graph():\n",
    "    full_conceptnet = nx.read_gexf(\"../data/conceptnet.gexf\")\n",
    "\n",
    "    concepts = set(\"/c/en/%s\" % n for n in nodes)\n",
    "    concepts\n",
    "\n",
    "    conceptnet_is_a = nx.DiGraph()\n",
    "\n",
    "    for n in concepts:\n",
    "        conceptnet_is_a.add_node(n)\n",
    "\n",
    "    for node in tqdm.tqdm(full_conceptnet.nodes):\n",
    "        descendants = list(nx.descendants(full_conceptnet, node))\n",
    "        for des in descendants:        \n",
    "            if des in concepts:\n",
    "                conceptnet_is_a.add_edge(node, des)\n",
    "\n",
    "    nx.write_gexf(conceptnet_is_a, \"conceptnet-is-a.gexf\")"
   ]
  },
  {
   "cell_type": "code",
   "execution_count": 10,
   "metadata": {},
   "outputs": [],
   "source": [
    "conceptnet_is_a = nx.read_gexf(\"conceptnet-is-a.gexf\")"
   ]
  },
  {
   "cell_type": "code",
   "execution_count": 11,
   "metadata": {},
   "outputs": [],
   "source": [
    "def get_classes(node):\n",
    "    return [entities[d.split(\"/\")[3]] for d in nx.descendants(conceptnet_is_a, node)]"
   ]
  },
  {
   "cell_type": "code",
   "execution_count": 24,
   "metadata": {},
   "outputs": [
    {
     "name": "stderr",
     "output_type": "stream",
     "text": [
      "100%|██████████| 134360/134360 [00:20<00:00, 6569.62it/s]\n"
     ]
    }
   ],
   "source": [
    "x = list(range(len(conceptnet_is_a.nodes)))\n",
    "y = [get_classes(n) for n in tqdm.tqdm(conceptnet_is_a.nodes)]"
   ]
  },
  {
   "cell_type": "code",
   "execution_count": 64,
   "metadata": {},
   "outputs": [],
   "source": [
    "from keras.layers import Input, Embedding, Flatten"
   ]
  },
  {
   "cell_type": "code",
   "execution_count": 65,
   "metadata": {},
   "outputs": [],
   "source": [
    "inp = Input(shape=(1,))\n",
    "em = Embedding(input_dim=len(x), output_dim=32, input_length=1)(inp)\n",
    "fl = Flatten()(em)"
   ]
  },
  {
   "cell_type": "code",
   "execution_count": 66,
   "metadata": {},
   "outputs": [],
   "source": [
    "snn = SNN(entities=entities.values(), relations=snn_relations)\n",
    "out = snn(fl)"
   ]
  },
  {
   "cell_type": "code",
   "execution_count": 69,
   "metadata": {},
   "outputs": [],
   "source": [
    "model = snn.build(inp)\n",
    "\n",
    "from keras.utils.vis_utils import model_to_dot\n",
    "\n",
    "dot = model_to_dot(model)\n",
    "dot.write_pdf(\"conceptnet-model.pdf\")"
   ]
  },
  {
   "cell_type": "code",
   "execution_count": 41,
   "metadata": {},
   "outputs": [
    {
     "name": "stdout",
     "output_type": "stream",
     "text": [
      "Epoch 1/5\n",
      "134360/134360 [==============================] - 24s 178us/step - loss: 0.0082\n",
      "Epoch 2/5\n",
      "134360/134360 [==============================] - 24s 179us/step - loss: 0.0072\n",
      "Epoch 3/5\n",
      "134360/134360 [==============================] - 24s 181us/step - loss: 0.0049\n",
      "Epoch 4/5\n",
      "134360/134360 [==============================] - 24s 182us/step - loss: 0.0030\n",
      "Epoch 5/5\n",
      "134360/134360 [==============================] - 25s 183us/step - loss: 0.0018\n"
     ]
    },
    {
     "data": {
      "text/plain": [
       "<keras.callbacks.History at 0x7fc3d34555c0>"
      ]
     },
     "execution_count": 41,
     "metadata": {},
     "output_type": "execute_result"
    }
   ],
   "source": [
    "model.fit(x,y, batch_size=512, epochs=5)"
   ]
  },
  {
   "cell_type": "code",
   "execution_count": 42,
   "metadata": {},
   "outputs": [],
   "source": [
    "yp = model.predict(x)"
   ]
  },
  {
   "cell_type": "code",
   "execution_count": 48,
   "metadata": {},
   "outputs": [
    {
     "data": {
      "text/plain": [
       "0.9996288436184239"
      ]
     },
     "execution_count": 48,
     "metadata": {},
     "output_type": "execute_result"
    }
   ],
   "source": [
    "(y == (yp>0.5).astype(int)).astype(float).mean()"
   ]
  },
  {
   "cell_type": "code",
   "execution_count": null,
   "metadata": {},
   "outputs": [],
   "source": []
  }
 ],
 "metadata": {
  "kernelspec": {
   "display_name": "Python 3",
   "language": "python",
   "name": "python3"
  },
  "language_info": {
   "codemirror_mode": {
    "name": "ipython",
    "version": 3
   },
   "file_extension": ".py",
   "mimetype": "text/x-python",
   "name": "python",
   "nbconvert_exporter": "python",
   "pygments_lexer": "ipython3",
   "version": "3.5.2"
  }
 },
 "nbformat": 4,
 "nbformat_minor": 2
}
