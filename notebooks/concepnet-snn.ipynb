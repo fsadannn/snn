{
 "cells": [
  {
   "cell_type": "code",
   "execution_count": 1,
   "metadata": {},
   "outputs": [
    {
     "name": "stdout",
     "output_type": "stream",
     "text": [
      "Requirement already satisfied: networkx in /usr/local/lib/python3.5/dist-packages (2.2)\n",
      "Requirement already satisfied: decorator>=4.3.0 in /usr/local/lib/python3.5/dist-packages (from networkx) (4.3.0)\n",
      "\u001b[33mYou are using pip version 18.1, however version 19.0.1 is available.\n",
      "You should consider upgrading via the 'pip install --upgrade pip' command.\u001b[0m\n"
     ]
    }
   ],
   "source": [
    "!pip install networkx \n",
    "import networkx as nx"
   ]
  },
  {
   "cell_type": "code",
   "execution_count": 2,
   "metadata": {},
   "outputs": [],
   "source": [
    "graph = nx.read_gexf(\"../data/concepnet-best.gexf\")\n",
    "dot = nx.nx_pydot.to_pydot(graph)\n",
    "dot.set_rankdir(\"LR\")\n",
    "dot.write_pdf(\"../data/conceptnet.pdf\")"
   ]
  },
  {
   "cell_type": "code",
   "execution_count": 3,
   "metadata": {},
   "outputs": [
    {
     "name": "stderr",
     "output_type": "stream",
     "text": [
      "Using TensorFlow backend.\n"
     ]
    }
   ],
   "source": [
    "from snn.base import Entity, Relation, SNN"
   ]
  },
  {
   "cell_type": "code",
   "execution_count": 4,
   "metadata": {},
   "outputs": [],
   "source": [
    "nodes = list(nx.topological_sort(graph))\n",
    "nodes.reverse()"
   ]
  },
  {
   "cell_type": "code",
   "execution_count": 5,
   "metadata": {},
   "outputs": [],
   "source": [
    "entities = {}\n",
    "\n",
    "for n in nodes:\n",
    "    parents = list(graph.neighbors(n))\n",
    "    parents = {entities[p] for p in parents}\n",
    "    entity = Entity(n, *parents)\n",
    "    entities[n] = entity"
   ]
  },
  {
   "cell_type": "code",
   "execution_count": 6,
   "metadata": {},
   "outputs": [],
   "source": [
    "import pandas as pd\n",
    "import tqdm\n",
    "import json"
   ]
  },
  {
   "cell_type": "code",
   "execution_count": 7,
   "metadata": {},
   "outputs": [
    {
     "data": {
      "text/plain": [
       "[0-Synonym(<vermin> , <insect>),\n",
       " 1-Synonym(<unit> , <whole>),\n",
       " 2-Synonym(<human_activity> , <act>),\n",
       " 3-Synonym(<thing> , <entity>),\n",
       " 4-Causes(<change> , <change>),\n",
       " 5-Antonym(<animal> , <mineral>),\n",
       " 6-Desires(<person> , <communication>),\n",
       " 7-Synonym(<region> , <state>),\n",
       " 8-Antonym(<vertebrate> , <invertebrate>),\n",
       " 9-UsedFor(<writing> , <information>),\n",
       " 10-InstanceOf(<film> , <film>),\n",
       " 11-DerivedFrom(<relationship> , <relation>),\n",
       " 12-Synonym(<action> , <process>),\n",
       " 13-UsedFor(<animal> , <food>),\n",
       " 14-Antonym(<work> , <being>),\n",
       " 15-Synonym(<action> , <performing>),\n",
       " 16-UsedFor(<system> , <organization>),\n",
       " 17-HasContext(<practice> , <medicine>),\n",
       " 18-SimilarTo(<relationship> , <relation>),\n",
       " 19-Synonym(<act> , <work>),\n",
       " 20-DerivedFrom(<worker> , <work>),\n",
       " 21-PartOf(<body_part> , <organism>),\n",
       " 22-Synonym(<action> , <movement>),\n",
       " 23-Synonym(<region> , <area>),\n",
       " 24-Synonym(<message> , <communication>),\n",
       " 25-PartOf(<genus> , <family>),\n",
       " 26-Synonym(<situation> , <position>),\n",
       " 27-PartOf(<food> , <food>),\n",
       " 28-AtLocation(<illness> , <body>),\n",
       " 29-MannerOf(<tree> , <plant>),\n",
       " 30-Antonym(<fish> , <mammal>),\n",
       " 31-Synonym(<situation> , <condition>),\n",
       " 32-Synonym(<thing> , <action>),\n",
       " 33-Synonym(<action> , <part>),\n",
       " 34-HasContext(<body> , <animal>),\n",
       " 35-HasContext(<event> , <medicine>),\n",
       " 36-Synonym(<being> , <organism>),\n",
       " 37-Synonym(<worker> , <actor>),\n",
       " 38-DistinctFrom(<fish> , <mammal>),\n",
       " 39-DistinctFrom(<line> , <object>),\n",
       " 40-Antonym(<person> , <group>),\n",
       " 41-PartOf(<part> , <whole>),\n",
       " 42-DistinctFrom(<mineral> , <animal>),\n",
       " 43-Synonym(<action> , <measure>),\n",
       " 44-AtLocation(<human> , <state>),\n",
       " 45-Causes(<writing> , <communication>),\n",
       " 46-Synonym(<category> , <class>),\n",
       " 47-Synonym(<kind> , <genus>),\n",
       " 48-UsedFor(<film> , <film>),\n",
       " 49-Synonym(<abstraction> , <concept>),\n",
       " 50-Synonym(<system> , <organization>),\n",
       " 51-Synonym(<thing> , <being>),\n",
       " 52-Synonym(<substance> , <message>),\n",
       " 53-NotDesires(<person> , <difficulty>),\n",
       " 54-Synonym(<agent> , <actor>),\n",
       " 55-UsedFor(<body> , <food>),\n",
       " 56-DerivedFrom(<actor> , <act>),\n",
       " 57-HasContext(<drug> , <medicine>),\n",
       " 58-AtLocation(<information> , <book>),\n",
       " 59-Synonym(<group> , <collection>),\n",
       " 60-DerivedFrom(<invertebrate> , <vertebrate>),\n",
       " 61-DistinctFrom(<line> , <body>),\n",
       " 62-DerivedFrom(<action> , <act>),\n",
       " 63-Synonym(<thing> , <property>),\n",
       " 64-NotDesires(<person> , <change>),\n",
       " 65-Synonym(<condition> , <circumstance>),\n",
       " 66-Synonym(<process> , <work>),\n",
       " 67-AtLocation(<worker> , <work>),\n",
       " 68-EtymologicallyRelatedTo(<kind> , <genus>),\n",
       " 69-DistinctFrom(<animal> , <person>),\n",
       " 70-PartOf(<body_part> , <human_body>),\n",
       " 71-AtLocation(<human> , <family>),\n",
       " 72-Desires(<fish> , <food>),\n",
       " 73-occupation(<actor> , <actor>),\n",
       " 74-HasContext(<medicine> , <medicine>),\n",
       " 75-Antonym(<animal> , <person>),\n",
       " 76-Synonym(<document> , <act>),\n",
       " 77-Synonym(<medicine> , <drug>),\n",
       " 78-HasPrerequisite(<writing> , <language>),\n",
       " 79-UsedFor(<writing> , <communication>),\n",
       " 80-Synonym(<relation> , <relationship>),\n",
       " 81-Synonym(<communication> , <statement>),\n",
       " 82-Synonym(<content> , <message>),\n",
       " 83-PartOf(<human_body> , <person>),\n",
       " 84-AtLocation(<company> , <city>),\n",
       " 85-DistinctFrom(<part> , <whole>),\n",
       " 86-Synonym(<statement> , <expression>),\n",
       " 87-Synonym(<body> , <human>),\n",
       " 88-Antonym(<person> , <animal>),\n",
       " 89-MannerOf(<act> , <act>),\n",
       " 90-Synonym(<activity> , <action>),\n",
       " 91-DistinctFrom(<person> , <animal>),\n",
       " 92-HasPrerequisite(<information> , <change>),\n",
       " 93-Antonym(<part> , <whole>),\n",
       " 94-DerivedFrom(<act> , <action>),\n",
       " 95-Causes(<performing> , <action>),\n",
       " 96-Synonym(<disease> , <medical_condition>),\n",
       " 97-Synonym(<illness> , <disease>),\n",
       " 98-AtLocation(<human> , <group>),\n",
       " 99-AtLocation(<disease> , <human_body>),\n",
       " 100-AtLocation(<system> , <human_body>),\n",
       " 101-HasContext(<plant> , <organism>),\n",
       " 102-Synonym(<part> , <position>),\n",
       " 103-Entails(<practice> , <work>),\n",
       " 104-Synonym(<part> , <region>),\n",
       " 105-DistinctFrom(<animal> , <plant>),\n",
       " 106-Antonym(<plant> , <mineral>),\n",
       " 107-Synonym(<system> , <body>),\n",
       " 108-Synonym(<process> , <action>),\n",
       " 109-SimilarTo(<relation> , <relationship>),\n",
       " 110-Synonym(<part> , <work>),\n",
       " 111-AtLocation(<person> , <family>),\n",
       " 112-AtLocation(<city> , <state>),\n",
       " 113-Antonym(<animal> , <plant>),\n",
       " 114-PartOf(<part> , <unit>),\n",
       " 115-Synonym(<situation> , <site>),\n",
       " 116-Synonym(<family> , <class>),\n",
       " 117-AtLocation(<line> , <book>),\n",
       " 118-Antonym(<plant> , <animal>),\n",
       " 119-Causes(<writing> , <writing>),\n",
       " 120-Synonym(<attribute> , <property>),\n",
       " 121-Antonym(<person> , <thing>),\n",
       " 122-Synonym(<action> , <activity>),\n",
       " 123-Antonym(<human> , <animal>),\n",
       " 124-Antonym(<plant> , <tree>),\n",
       " 125-MannerOf(<work> , <work>),\n",
       " 126-Synonym(<concept> , <abstraction>),\n",
       " 127-Antonym(<animal> , <human>),\n",
       " 128-DistinctFrom(<human> , <animal>),\n",
       " 129-Antonym(<whole> , <part>),\n",
       " 130-HasSubevent(<performing> , <act>),\n",
       " 131-Synonym(<disease> , <illness>),\n",
       " 132-DistinctFrom(<whole> , <part>),\n",
       " 133-DistinctFrom(<plant> , <animal>),\n",
       " 134-DistinctFrom(<animal> , <human>),\n",
       " 135-Synonym(<material> , <substance>),\n",
       " 136-UsedFor(<line> , <fish>),\n",
       " 137-Synonym(<quantity> , <measure>),\n",
       " 138-UsedFor(<language> , <communication>),\n",
       " 139-Antonym(<city> , <state>),\n",
       " 140-Synonym(<relationship> , <relation>),\n",
       " 141-Synonym(<situation> , <circumstance>),\n",
       " 142-DistinctFrom(<animal> , <mineral>),\n",
       " 143-Synonym(<thing> , <object>),\n",
       " 144-Causes(<work> , <work>),\n",
       " 145-Desires(<person> , <quality>),\n",
       " 146-DistinctFrom(<person> , <thing>),\n",
       " 147-Synonym(<position> , <situation>),\n",
       " 148-NotDesires(<person> , <thing>),\n",
       " 149-Antonym(<invertebrate> , <vertebrate>),\n",
       " 150-Synonym(<action> , <instrumentality>),\n",
       " 151-Desires(<person> , <company>)]"
      ]
     },
     "execution_count": 7,
     "metadata": {},
     "output_type": "execute_result"
    }
   ],
   "source": [
    "snn_relations = []\n",
    "\n",
    "for i, (src, dst, r) in enumerate(json.load(open(\"../data/concepnet-relations.json\"))):\n",
    "    r = r.split(\"/\")[-1]\n",
    "    snn_relations.append(Relation(label=\"%d-%s\" % (i,r), src=entities[src], dst=entities[dst]))\n",
    "    \n",
    "snn_relations"
   ]
  },
  {
   "cell_type": "code",
   "execution_count": 8,
   "metadata": {},
   "outputs": [],
   "source": [
    "full_conceptnet = nx.read_gexf(\"../data/conceptnet.gexf\")"
   ]
  },
  {
   "cell_type": "code",
   "execution_count": null,
   "metadata": {},
   "outputs": [
    {
     "name": "stderr",
     "output_type": "stream",
     "text": [
      "  3%|▎         | 5080/171188 [01:12<41:22, 66.90it/s]"
     ]
    }
   ],
   "source": [
    "concepts = set(nodes)\n",
    "\n",
    "for node in tqdm.tqdm(full_conceptnet.nodes):\n",
    "    descendants = list(nx.descendants(full_conceptnet, node))\n",
    "    for des in descendants:\n",
    "        if des in concepts:\n",
    "            full_conceptnet.add_edge(node, des)\n",
    "        elif full_conceptnet.has_edge(node, des):\n",
    "            full_conceptnet.remove_edge(node, des)"
   ]
  },
  {
   "cell_type": "code",
   "execution_count": null,
   "metadata": {},
   "outputs": [],
   "source": []
  },
  {
   "cell_type": "code",
   "execution_count": 65,
   "metadata": {},
   "outputs": [],
   "source": [
    "for node in concepts:\n",
    "    full_conceptnet.add_edge(\"/c/en/%s\" % node, \"SUPER\")\n",
    "\n",
    "def is_concept_instance(node):\n",
    "    if node == \"SUPER\":\n",
    "        return False\n",
    "    \n",
    "    if not node.startswith(\"/c/\"):\n",
    "        node = \"/c/en/%s\" % node\n",
    "            \n",
    "    if node.split(\"/\")[3] in concepts:\n",
    "        return False\n",
    "    \n",
    "    return nx.has_path(full_conceptnet, node, \"SUPER\")"
   ]
  },
  {
   "cell_type": "code",
   "execution_count": 75,
   "metadata": {},
   "outputs": [],
   "source": [
    "from tqdm import tqdm_notebook as tqdm\n",
    "\n",
    "instances = []\n",
    "\n",
    "for n in full_conceptnet.nodes:\n",
    "    if is_concept_instance(n):\n",
    "        instances.append(n)"
   ]
  },
  {
   "cell_type": "code",
   "execution_count": 77,
   "metadata": {},
   "outputs": [
    {
     "data": {
      "text/plain": [
       "134025"
      ]
     },
     "execution_count": 77,
     "metadata": {},
     "output_type": "execute_result"
    }
   ],
   "source": [
    "len(instances)"
   ]
  },
  {
   "cell_type": "code",
   "execution_count": 14,
   "metadata": {},
   "outputs": [],
   "source": [
    "from keras.layers import Input"
   ]
  },
  {
   "cell_type": "code",
   "execution_count": 79,
   "metadata": {},
   "outputs": [],
   "source": [
    "x = Input(shape=(len(instances),))\n",
    "snn = SNN(entities=entities.values(), relations=[])\n",
    "y = snn(x)\n",
    "model = snn.build()"
   ]
  },
  {
   "cell_type": "code",
   "execution_count": null,
   "metadata": {},
   "outputs": [],
   "source": []
  }
 ],
 "metadata": {
  "kernelspec": {
   "display_name": "Python 3",
   "language": "python",
   "name": "python3"
  },
  "language_info": {
   "codemirror_mode": {
    "name": "ipython",
    "version": 3
   },
   "file_extension": ".py",
   "mimetype": "text/x-python",
   "name": "python",
   "nbconvert_exporter": "python",
   "pygments_lexer": "ipython3",
   "version": "3.5.2"
  }
 },
 "nbformat": 4,
 "nbformat_minor": 2
}
