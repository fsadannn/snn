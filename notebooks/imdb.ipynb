{
 "cells": [
  {
   "cell_type": "code",
   "execution_count": 1,
   "metadata": {},
   "outputs": [],
   "source": [
    "import pandas as pd"
   ]
  },
  {
   "cell_type": "code",
   "execution_count": 2,
   "metadata": {},
   "outputs": [
    {
     "name": "stderr",
     "output_type": "stream",
     "text": [
      "Using TensorFlow backend.\n"
     ]
    }
   ],
   "source": [
    "from keras.layers import Input, Dense\n",
    "from snn import SNN, Entity, Relation"
   ]
  },
  {
   "cell_type": "code",
   "execution_count": 3,
   "metadata": {},
   "outputs": [],
   "source": [
    "Person = Entity(\"Person\")\n",
    "Movie = Entity(\"Movie\")"
   ]
  },
  {
   "cell_type": "code",
   "execution_count": 4,
   "metadata": {},
   "outputs": [],
   "source": [
    "df = pd.read_csv(\"../data/relations.tsv\", sep=\"\\t\", names=['Movie', 'Relation', 'Person'], nrows=100000)"
   ]
  },
  {
   "cell_type": "code",
   "execution_count": 5,
   "metadata": {},
   "outputs": [
    {
     "data": {
      "text/html": [
       "<div>\n",
       "<style scoped>\n",
       "    .dataframe tbody tr th:only-of-type {\n",
       "        vertical-align: middle;\n",
       "    }\n",
       "\n",
       "    .dataframe tbody tr th {\n",
       "        vertical-align: top;\n",
       "    }\n",
       "\n",
       "    .dataframe thead th {\n",
       "        text-align: right;\n",
       "    }\n",
       "</style>\n",
       "<table border=\"1\" class=\"dataframe\">\n",
       "  <thead>\n",
       "    <tr style=\"text-align: right;\">\n",
       "      <th></th>\n",
       "      <th>Movie</th>\n",
       "      <th>Relation</th>\n",
       "      <th>Person</th>\n",
       "    </tr>\n",
       "  </thead>\n",
       "  <tbody>\n",
       "    <tr>\n",
       "      <th>0</th>\n",
       "      <td>Carmencita</td>\n",
       "      <td>self</td>\n",
       "      <td>Carmencita</td>\n",
       "    </tr>\n",
       "    <tr>\n",
       "      <th>1</th>\n",
       "      <td>Carmencita</td>\n",
       "      <td>director</td>\n",
       "      <td>William K.L. Dickson</td>\n",
       "    </tr>\n",
       "    <tr>\n",
       "      <th>2</th>\n",
       "      <td>Carmencita</td>\n",
       "      <td>cinematographer</td>\n",
       "      <td>William Heise</td>\n",
       "    </tr>\n",
       "    <tr>\n",
       "      <th>3</th>\n",
       "      <td>Le clown et ses chiens</td>\n",
       "      <td>director</td>\n",
       "      <td>Émile Reynaud</td>\n",
       "    </tr>\n",
       "    <tr>\n",
       "      <th>4</th>\n",
       "      <td>Le clown et ses chiens</td>\n",
       "      <td>composer</td>\n",
       "      <td>Gaston Paulin</td>\n",
       "    </tr>\n",
       "  </tbody>\n",
       "</table>\n",
       "</div>"
      ],
      "text/plain": [
       "                    Movie         Relation                Person\n",
       "0              Carmencita             self            Carmencita\n",
       "1              Carmencita         director  William K.L. Dickson\n",
       "2              Carmencita  cinematographer         William Heise\n",
       "3  Le clown et ses chiens         director         Émile Reynaud\n",
       "4  Le clown et ses chiens         composer         Gaston Paulin"
      ]
     },
     "execution_count": 5,
     "metadata": {},
     "output_type": "execute_result"
    }
   ],
   "source": [
    "df.head()"
   ]
  },
  {
   "cell_type": "code",
   "execution_count": 6,
   "metadata": {},
   "outputs": [
    {
     "data": {
      "text/plain": [
       "{'actor': actor(<Movie> , <Person>),\n",
       " 'actress': actress(<Movie> , <Person>),\n",
       " 'archive_footage': archive_footage(<Movie> , <Person>),\n",
       " 'cinematographer': cinematographer(<Movie> , <Person>),\n",
       " 'composer': composer(<Movie> , <Person>),\n",
       " 'director': director(<Movie> , <Person>),\n",
       " 'editor': editor(<Movie> , <Person>),\n",
       " 'producer': producer(<Movie> , <Person>),\n",
       " 'production_designer': production_designer(<Movie> , <Person>),\n",
       " 'self': self(<Movie> , <Person>),\n",
       " 'writer': writer(<Movie> , <Person>)}"
      ]
     },
     "execution_count": 6,
     "metadata": {},
     "output_type": "execute_result"
    }
   ],
   "source": [
    "relations = {l: Relation(label=l, dst=Person, src=Movie) for l in df['Relation'].unique()}\n",
    "relations"
   ]
  },
  {
   "cell_type": "code",
   "execution_count": 7,
   "metadata": {},
   "outputs": [
    {
     "data": {
      "text/plain": [
       "[<Person>, <Movie>]"
      ]
     },
     "execution_count": 7,
     "metadata": {},
     "output_type": "execute_result"
    }
   ],
   "source": [
    "entities = [Person, Movie]\n",
    "entities"
   ]
  },
  {
   "cell_type": "code",
   "execution_count": 8,
   "metadata": {},
   "outputs": [],
   "source": [
    "X = [t.Person + \" @ \" + t.Movie for t in df.itertuples()]\n",
    "y = [[relations[t.Relation]] for t in df.itertuples()]"
   ]
  },
  {
   "cell_type": "code",
   "execution_count": 9,
   "metadata": {},
   "outputs": [],
   "source": [
    "from sklearn.feature_extraction.text import CountVectorizer"
   ]
  },
  {
   "cell_type": "code",
   "execution_count": 10,
   "metadata": {},
   "outputs": [],
   "source": [
    "cv = CountVectorizer()\n",
    "Xt = cv.fit_transform(X)"
   ]
  },
  {
   "cell_type": "code",
   "execution_count": 11,
   "metadata": {},
   "outputs": [],
   "source": [
    "x = Input(shape=(Xt.shape[1],))\n",
    "snn = SNN(entities=entities, relations=relations.values())\n",
    "output = snn(x)"
   ]
  },
  {
   "cell_type": "code",
   "execution_count": 12,
   "metadata": {},
   "outputs": [],
   "source": [
    "from snn.utils import draw"
   ]
  },
  {
   "cell_type": "code",
   "execution_count": 13,
   "metadata": {},
   "outputs": [],
   "source": [
    "snn_model = snn.build(x)"
   ]
  },
  {
   "cell_type": "code",
   "execution_count": 14,
   "metadata": {},
   "outputs": [
    {
     "data": {
      "image/svg+xml": [
       "<?xml version=\"1.0\" encoding=\"UTF-8\" standalone=\"no\"?>\n",
       "<!DOCTYPE svg PUBLIC \"-//W3C//DTD SVG 1.1//EN\"\n",
       " \"http://www.w3.org/Graphics/SVG/1.1/DTD/svg11.dtd\">\n",
       "<!-- Generated by graphviz version 2.38.0 (20140413.2041)\n",
       " -->\n",
       "<!-- Title: G Pages: 1 -->\n",
       "<svg width=\"2825pt\" height=\"337pt\"\n",
       " viewBox=\"0.00 0.00 2824.50 337.00\" xmlns=\"http://www.w3.org/2000/svg\" xmlns:xlink=\"http://www.w3.org/1999/xlink\">\n",
       "<g id=\"graph0\" class=\"graph\" transform=\"scale(1 1) rotate(0) translate(4 333)\">\n",
       "<title>G</title>\n",
       "<polygon fill=\"white\" stroke=\"none\" points=\"-4,4 -4,-333 2820.5,-333 2820.5,4 -4,4\"/>\n",
       "<!-- 139771017694456 -->\n",
       "<g id=\"node1\" class=\"node\"><title>139771017694456</title>\n",
       "<polygon fill=\"none\" stroke=\"black\" points=\"1420,-292.5 1420,-328.5 1580,-328.5 1580,-292.5 1420,-292.5\"/>\n",
       "<text text-anchor=\"middle\" x=\"1500\" y=\"-306.8\" font-family=\"Times,serif\" font-size=\"14.00\">input_1: InputLayer</text>\n",
       "</g>\n",
       "<!-- 139771100139648 -->\n",
       "<g id=\"node2\" class=\"node\"><title>139771100139648</title>\n",
       "<polygon fill=\"none\" stroke=\"black\" points=\"1332,-219.5 1332,-255.5 1492,-255.5 1492,-219.5 1332,-219.5\"/>\n",
       "<text text-anchor=\"middle\" x=\"1412\" y=\"-233.8\" font-family=\"Times,serif\" font-size=\"14.00\">Person: EntityLayer</text>\n",
       "</g>\n",
       "<!-- 139771017694456&#45;&gt;139771100139648 -->\n",
       "<g id=\"edge1\" class=\"edge\"><title>139771017694456&#45;&gt;139771100139648</title>\n",
       "<path fill=\"none\" stroke=\"black\" d=\"M1478.7,-292.313C1467.35,-283.156 1453.22,-271.76 1440.9,-261.816\"/>\n",
       "<polygon fill=\"black\" stroke=\"black\" points=\"1443.09,-259.084 1433.11,-255.529 1438.69,-264.532 1443.09,-259.084\"/>\n",
       "</g>\n",
       "<!-- 139771100140152 -->\n",
       "<g id=\"node3\" class=\"node\"><title>139771100140152</title>\n",
       "<polygon fill=\"none\" stroke=\"black\" points=\"1510.5,-219.5 1510.5,-255.5 1665.5,-255.5 1665.5,-219.5 1510.5,-219.5\"/>\n",
       "<text text-anchor=\"middle\" x=\"1588\" y=\"-233.8\" font-family=\"Times,serif\" font-size=\"14.00\">Movie: EntityLayer</text>\n",
       "</g>\n",
       "<!-- 139771017694456&#45;&gt;139771100140152 -->\n",
       "<g id=\"edge2\" class=\"edge\"><title>139771017694456&#45;&gt;139771100140152</title>\n",
       "<path fill=\"none\" stroke=\"black\" d=\"M1521.3,-292.313C1532.65,-283.156 1546.78,-271.76 1559.1,-261.816\"/>\n",
       "<polygon fill=\"black\" stroke=\"black\" points=\"1561.31,-264.532 1566.89,-255.529 1556.91,-259.084 1561.31,-264.532\"/>\n",
       "</g>\n",
       "<!-- 139771017695128 -->\n",
       "<g id=\"node4\" class=\"node\"><title>139771017695128</title>\n",
       "<polygon fill=\"none\" stroke=\"black\" points=\"1610.5,-146.5 1610.5,-182.5 1859.5,-182.5 1859.5,-146.5 1610.5,-146.5\"/>\n",
       "<text text-anchor=\"middle\" x=\"1735\" y=\"-160.8\" font-family=\"Times,serif\" font-size=\"14.00\">cinematographer: RelationLayer</text>\n",
       "</g>\n",
       "<!-- 139771100139648&#45;&gt;139771017695128 -->\n",
       "<g id=\"edge4\" class=\"edge\"><title>139771100139648&#45;&gt;139771017695128</title>\n",
       "<path fill=\"none\" stroke=\"black\" d=\"M1489.37,-219.494C1536.95,-209.035 1598.04,-195.605 1647.4,-184.756\"/>\n",
       "<polygon fill=\"black\" stroke=\"black\" points=\"1648.41,-188.117 1657.43,-182.552 1646.91,-181.281 1648.41,-188.117\"/>\n",
       "</g>\n",
       "<!-- 139771100140040 -->\n",
       "<g id=\"node5\" class=\"node\"><title>139771100140040</title>\n",
       "<polygon fill=\"none\" stroke=\"black\" points=\"1877.5,-146.5 1877.5,-182.5 2046.5,-182.5 2046.5,-146.5 1877.5,-146.5\"/>\n",
       "<text text-anchor=\"middle\" x=\"1962\" y=\"-160.8\" font-family=\"Times,serif\" font-size=\"14.00\">editor: RelationLayer</text>\n",
       "</g>\n",
       "<!-- 139771100139648&#45;&gt;139771100140040 -->\n",
       "<g id=\"edge6\" class=\"edge\"><title>139771100139648&#45;&gt;139771100140040</title>\n",
       "<path fill=\"none\" stroke=\"black\" d=\"M1492.47,-220.316C1495.35,-219.853 1498.2,-219.412 1501,-219 1659.98,-195.627 1704.02,-205.609 1867.35,-183.015\"/>\n",
       "<polygon fill=\"black\" stroke=\"black\" points=\"1867.84,-186.481 1877.25,-181.625 1866.86,-179.549 1867.84,-186.481\"/>\n",
       "</g>\n",
       "<!-- 139771022544232 -->\n",
       "<g id=\"node6\" class=\"node\"><title>139771022544232</title>\n",
       "<polygon fill=\"none\" stroke=\"black\" points=\"2065,-146.5 2065,-182.5 2235,-182.5 2235,-146.5 2065,-146.5\"/>\n",
       "<text text-anchor=\"middle\" x=\"2150\" y=\"-160.8\" font-family=\"Times,serif\" font-size=\"14.00\">writer: RelationLayer</text>\n",
       "</g>\n",
       "<!-- 139771100139648&#45;&gt;139771022544232 -->\n",
       "<g id=\"edge8\" class=\"edge\"><title>139771100139648&#45;&gt;139771022544232</title>\n",
       "<path fill=\"none\" stroke=\"black\" d=\"M1492.45,-220.197C1495.33,-219.767 1498.19,-219.366 1501,-219 1742.45,-187.551 1808.41,-212.72 2054.9,-182.904\"/>\n",
       "<polygon fill=\"black\" stroke=\"black\" points=\"2055.38,-186.372 2064.88,-181.679 2054.53,-179.424 2055.38,-186.372\"/>\n",
       "</g>\n",
       "<!-- 139771021857232 -->\n",
       "<g id=\"node7\" class=\"node\"><title>139771021857232</title>\n",
       "<polygon fill=\"none\" stroke=\"black\" points=\"2253.5,-146.5 2253.5,-182.5 2444.5,-182.5 2444.5,-146.5 2253.5,-146.5\"/>\n",
       "<text text-anchor=\"middle\" x=\"2349\" y=\"-160.8\" font-family=\"Times,serif\" font-size=\"14.00\">producer: RelationLayer</text>\n",
       "</g>\n",
       "<!-- 139771100139648&#45;&gt;139771021857232 -->\n",
       "<g id=\"edge10\" class=\"edge\"><title>139771100139648&#45;&gt;139771021857232</title>\n",
       "<path fill=\"none\" stroke=\"black\" d=\"M1492.45,-220.137C1495.33,-219.724 1498.19,-219.343 1501,-219 1825.82,-179.411 1913.48,-217.44 2243.17,-182.997\"/>\n",
       "<polygon fill=\"black\" stroke=\"black\" points=\"2243.92,-186.437 2253.5,-181.903 2243.18,-179.476 2243.92,-186.437\"/>\n",
       "</g>\n",
       "<!-- 139771020169736 -->\n",
       "<g id=\"node8\" class=\"node\"><title>139771020169736</title>\n",
       "<polygon fill=\"none\" stroke=\"black\" points=\"2463,-146.5 2463,-182.5 2615,-182.5 2615,-146.5 2463,-146.5\"/>\n",
       "<text text-anchor=\"middle\" x=\"2539\" y=\"-160.8\" font-family=\"Times,serif\" font-size=\"14.00\">self: RelationLayer</text>\n",
       "</g>\n",
       "<!-- 139771100139648&#45;&gt;139771020169736 -->\n",
       "<g id=\"edge12\" class=\"edge\"><title>139771100139648&#45;&gt;139771020169736</title>\n",
       "<path fill=\"none\" stroke=\"black\" d=\"M1492.44,-220.098C1495.32,-219.696 1498.18,-219.328 1501,-219 1918.28,-170.388 2030.84,-232.398 2452.65,-182.894\"/>\n",
       "<polygon fill=\"black\" stroke=\"black\" points=\"2453.16,-186.359 2462.67,-181.704 2452.33,-179.407 2453.16,-186.359\"/>\n",
       "</g>\n",
       "<!-- 139771019744368 -->\n",
       "<g id=\"node9\" class=\"node\"><title>139771019744368</title>\n",
       "<polygon fill=\"none\" stroke=\"black\" points=\"264.5,-146.5 264.5,-182.5 443.5,-182.5 443.5,-146.5 264.5,-146.5\"/>\n",
       "<text text-anchor=\"middle\" x=\"354\" y=\"-160.8\" font-family=\"Times,serif\" font-size=\"14.00\">actress: RelationLayer</text>\n",
       "</g>\n",
       "<!-- 139771100139648&#45;&gt;139771019744368 -->\n",
       "<g id=\"edge14\" class=\"edge\"><title>139771100139648&#45;&gt;139771019744368</title>\n",
       "<path fill=\"none\" stroke=\"black\" d=\"M1331.84,-235.254C1168.53,-232.012 785.417,-220.824 453.798,-182.999\"/>\n",
       "<polygon fill=\"black\" stroke=\"black\" points=\"453.843,-179.481 443.508,-181.815 453.043,-186.435 453.843,-179.481\"/>\n",
       "</g>\n",
       "<!-- 139771018539360 -->\n",
       "<g id=\"node10\" class=\"node\"><title>139771018539360</title>\n",
       "<polygon fill=\"none\" stroke=\"black\" points=\"462,-146.5 462,-182.5 702,-182.5 702,-146.5 462,-146.5\"/>\n",
       "<text text-anchor=\"middle\" x=\"582\" y=\"-160.8\" font-family=\"Times,serif\" font-size=\"14.00\">archive_footage: RelationLayer</text>\n",
       "</g>\n",
       "<!-- 139771100139648&#45;&gt;139771018539360 -->\n",
       "<g id=\"edge16\" class=\"edge\"><title>139771100139648&#45;&gt;139771018539360</title>\n",
       "<path fill=\"none\" stroke=\"black\" d=\"M1331.96,-231.924C1203.55,-224.243 943.313,-207.285 712.416,-183.116\"/>\n",
       "<polygon fill=\"black\" stroke=\"black\" points=\"712.45,-179.6 702.138,-182.033 711.716,-186.561 712.45,-179.6\"/>\n",
       "</g>\n",
       "<!-- 139771018314864 -->\n",
       "<g id=\"node11\" class=\"node\"><title>139771018314864</title>\n",
       "<polygon fill=\"none\" stroke=\"black\" points=\"720,-146.5 720,-182.5 994,-182.5 994,-146.5 720,-146.5\"/>\n",
       "<text text-anchor=\"middle\" x=\"857\" y=\"-160.8\" font-family=\"Times,serif\" font-size=\"14.00\">production_designer: RelationLayer</text>\n",
       "</g>\n",
       "<!-- 139771100139648&#45;&gt;139771018314864 -->\n",
       "<g id=\"edge18\" class=\"edge\"><title>139771100139648&#45;&gt;139771018314864</title>\n",
       "<path fill=\"none\" stroke=\"black\" d=\"M1331.89,-226.252C1245.3,-215.175 1105.55,-197.297 1000.02,-183.797\"/>\n",
       "<polygon fill=\"black\" stroke=\"black\" points=\"1000.28,-180.302 989.921,-182.504 999.396,-187.245 1000.28,-180.302\"/>\n",
       "</g>\n",
       "<!-- 139771018942168 -->\n",
       "<g id=\"node12\" class=\"node\"><title>139771018942168</title>\n",
       "<polygon fill=\"none\" stroke=\"black\" points=\"1012,-146.5 1012,-182.5 1176,-182.5 1176,-146.5 1012,-146.5\"/>\n",
       "<text text-anchor=\"middle\" x=\"1094\" y=\"-160.8\" font-family=\"Times,serif\" font-size=\"14.00\">actor: RelationLayer</text>\n",
       "</g>\n",
       "<!-- 139771100139648&#45;&gt;139771018942168 -->\n",
       "<g id=\"edge20\" class=\"edge\"><title>139771100139648&#45;&gt;139771018942168</title>\n",
       "<path fill=\"none\" stroke=\"black\" d=\"M1335.83,-219.494C1288.99,-209.035 1228.84,-195.605 1180.24,-184.756\"/>\n",
       "<polygon fill=\"black\" stroke=\"black\" points=\"1180.9,-181.315 1170.37,-182.552 1179.37,-188.147 1180.9,-181.315\"/>\n",
       "</g>\n",
       "<!-- 139771013656816 -->\n",
       "<g id=\"node13\" class=\"node\"><title>139771013656816</title>\n",
       "<polygon fill=\"none\" stroke=\"black\" points=\"1194,-146.5 1194,-182.5 1390,-182.5 1390,-146.5 1194,-146.5\"/>\n",
       "<text text-anchor=\"middle\" x=\"1292\" y=\"-160.8\" font-family=\"Times,serif\" font-size=\"14.00\">composer: RelationLayer</text>\n",
       "</g>\n",
       "<!-- 139771100139648&#45;&gt;139771013656816 -->\n",
       "<g id=\"edge22\" class=\"edge\"><title>139771100139648&#45;&gt;139771013656816</title>\n",
       "<path fill=\"none\" stroke=\"black\" d=\"M1383.26,-219.494C1367.2,-209.991 1346.99,-198.036 1329.68,-187.792\"/>\n",
       "<polygon fill=\"black\" stroke=\"black\" points=\"1331.31,-184.694 1320.92,-182.614 1327.75,-190.718 1331.31,-184.694\"/>\n",
       "</g>\n",
       "<!-- 139771015131432 -->\n",
       "<g id=\"node14\" class=\"node\"><title>139771015131432</title>\n",
       "<polygon fill=\"none\" stroke=\"black\" points=\"1408,-146.5 1408,-182.5 1592,-182.5 1592,-146.5 1408,-146.5\"/>\n",
       "<text text-anchor=\"middle\" x=\"1500\" y=\"-160.8\" font-family=\"Times,serif\" font-size=\"14.00\">director: RelationLayer</text>\n",
       "</g>\n",
       "<!-- 139771100139648&#45;&gt;139771015131432 -->\n",
       "<g id=\"edge24\" class=\"edge\"><title>139771100139648&#45;&gt;139771015131432</title>\n",
       "<path fill=\"none\" stroke=\"black\" d=\"M1433.3,-219.313C1444.65,-210.156 1458.78,-198.76 1471.1,-188.816\"/>\n",
       "<polygon fill=\"black\" stroke=\"black\" points=\"1473.31,-191.532 1478.89,-182.529 1468.91,-186.084 1473.31,-191.532\"/>\n",
       "</g>\n",
       "<!-- 139771015409792 -->\n",
       "<g id=\"node15\" class=\"node\"><title>139771015409792</title>\n",
       "<polygon fill=\"none\" stroke=\"black\" points=\"0,-73.5 0,-109.5 188,-109.5 188,-73.5 0,-73.5\"/>\n",
       "<text text-anchor=\"middle\" x=\"94\" y=\"-87.8\" font-family=\"Times,serif\" font-size=\"14.00\">indicator&#45;Person: Dense</text>\n",
       "</g>\n",
       "<!-- 139771100139648&#45;&gt;139771015409792 -->\n",
       "<g id=\"edge25\" class=\"edge\"><title>139771100139648&#45;&gt;139771015409792</title>\n",
       "<path fill=\"none\" stroke=\"black\" d=\"M1331.6,-234.931C1086.25,-229.846 357.63,-212.417 255,-183 205.976,-168.948 155.724,-137.425 124.691,-115.563\"/>\n",
       "<polygon fill=\"black\" stroke=\"black\" points=\"126.634,-112.65 116.465,-109.676 122.56,-118.342 126.634,-112.65\"/>\n",
       "</g>\n",
       "<!-- 139771100140152&#45;&gt;139771017695128 -->\n",
       "<g id=\"edge3\" class=\"edge\"><title>139771100140152&#45;&gt;139771017695128</title>\n",
       "<path fill=\"none\" stroke=\"black\" d=\"M1623.21,-219.494C1643.34,-209.773 1668.77,-197.487 1690.3,-187.09\"/>\n",
       "<polygon fill=\"black\" stroke=\"black\" points=\"1692.09,-190.114 1699.57,-182.614 1689.04,-183.811 1692.09,-190.114\"/>\n",
       "</g>\n",
       "<!-- 139771100140152&#45;&gt;139771100140040 -->\n",
       "<g id=\"edge5\" class=\"edge\"><title>139771100140152&#45;&gt;139771100140040</title>\n",
       "<path fill=\"none\" stroke=\"black\" d=\"M1665.95,-221.702C1724.57,-210.573 1805.18,-195.271 1867.48,-183.443\"/>\n",
       "<polygon fill=\"black\" stroke=\"black\" points=\"1868.15,-186.88 1877.32,-181.576 1866.84,-180.003 1868.15,-186.88\"/>\n",
       "</g>\n",
       "<!-- 139771100140152&#45;&gt;139771022544232 -->\n",
       "<g id=\"edge7\" class=\"edge\"><title>139771100140152&#45;&gt;139771022544232</title>\n",
       "<path fill=\"none\" stroke=\"black\" d=\"M1665.89,-229.215C1756.59,-220.362 1911.14,-204.136 2054.55,-183.005\"/>\n",
       "<polygon fill=\"black\" stroke=\"black\" points=\"2055.47,-186.406 2064.85,-181.475 2054.45,-179.482 2055.47,-186.406\"/>\n",
       "</g>\n",
       "<!-- 139771100140152&#45;&gt;139771021857232 -->\n",
       "<g id=\"edge9\" class=\"edge\"><title>139771100140152&#45;&gt;139771021857232</title>\n",
       "<path fill=\"none\" stroke=\"black\" d=\"M1665.72,-232.275C1786.83,-225.224 2028.08,-209.305 2243.25,-183.028\"/>\n",
       "<polygon fill=\"black\" stroke=\"black\" points=\"2243.98,-186.465 2253.48,-181.769 2243.13,-179.517 2243.98,-186.465\"/>\n",
       "</g>\n",
       "<!-- 139771100140152&#45;&gt;139771020169736 -->\n",
       "<g id=\"edge11\" class=\"edge\"><title>139771100140152&#45;&gt;139771020169736</title>\n",
       "<path fill=\"none\" stroke=\"black\" d=\"M1665.59,-235.31C1815.72,-232.221 2156.41,-221.377 2452.59,-182.928\"/>\n",
       "<polygon fill=\"black\" stroke=\"black\" points=\"2453.2,-186.378 2462.66,-181.607 2452.29,-179.437 2453.2,-186.378\"/>\n",
       "</g>\n",
       "<!-- 139771100140152&#45;&gt;139771019744368 -->\n",
       "<g id=\"edge13\" class=\"edge\"><title>139771100140152&#45;&gt;139771019744368</title>\n",
       "<path fill=\"none\" stroke=\"black\" d=\"M1510.31,-220.216C1507.17,-219.767 1504.06,-219.358 1501,-219 1041.38,-165.248 918.242,-230.743 453.754,-182.974\"/>\n",
       "<polygon fill=\"black\" stroke=\"black\" points=\"454.074,-179.489 443.766,-181.935 453.35,-186.451 454.074,-179.489\"/>\n",
       "</g>\n",
       "<!-- 139771100140152&#45;&gt;139771018539360 -->\n",
       "<g id=\"edge15\" class=\"edge\"><title>139771100140152&#45;&gt;139771018539360</title>\n",
       "<path fill=\"none\" stroke=\"black\" d=\"M1510.31,-220.26C1507.17,-219.798 1504.06,-219.375 1501,-219 1155.46,-176.627 1062.81,-213.931 712.306,-183.063\"/>\n",
       "<polygon fill=\"black\" stroke=\"black\" points=\"712.398,-179.557 702.126,-182.154 711.775,-186.53 712.398,-179.557\"/>\n",
       "</g>\n",
       "<!-- 139771100140152&#45;&gt;139771018314864 -->\n",
       "<g id=\"edge17\" class=\"edge\"><title>139771100140152&#45;&gt;139771018314864</title>\n",
       "<path fill=\"none\" stroke=\"black\" d=\"M1510.29,-220.364C1507.16,-219.873 1504.05,-219.416 1501,-219 1284.34,-189.498 1225.61,-203.777 1004.13,-183.076\"/>\n",
       "<polygon fill=\"black\" stroke=\"black\" points=\"1004.43,-179.589 994.146,-182.129 1003.77,-186.558 1004.43,-179.589\"/>\n",
       "</g>\n",
       "<!-- 139771100140152&#45;&gt;139771018942168 -->\n",
       "<g id=\"edge19\" class=\"edge\"><title>139771100140152&#45;&gt;139771018942168</title>\n",
       "<path fill=\"none\" stroke=\"black\" d=\"M1510.27,-220.524C1507.14,-219.989 1504.04,-219.479 1501,-219 1364.64,-197.557 1326.5,-204.036 1186.55,-183.168\"/>\n",
       "<polygon fill=\"black\" stroke=\"black\" points=\"1186.7,-179.652 1176.29,-181.618 1185.66,-186.573 1186.7,-179.652\"/>\n",
       "</g>\n",
       "<!-- 139771100140152&#45;&gt;139771013656816 -->\n",
       "<g id=\"edge21\" class=\"edge\"><title>139771100140152&#45;&gt;139771013656816</title>\n",
       "<path fill=\"none\" stroke=\"black\" d=\"M1517.1,-219.494C1473.68,-209.079 1417.98,-195.717 1372.84,-184.892\"/>\n",
       "<polygon fill=\"black\" stroke=\"black\" points=\"1373.63,-181.481 1363.09,-182.552 1372,-188.288 1373.63,-181.481\"/>\n",
       "</g>\n",
       "<!-- 139771100140152&#45;&gt;139771015131432 -->\n",
       "<g id=\"edge23\" class=\"edge\"><title>139771100140152&#45;&gt;139771015131432</title>\n",
       "<path fill=\"none\" stroke=\"black\" d=\"M1566.7,-219.313C1555.35,-210.156 1541.22,-198.76 1528.9,-188.816\"/>\n",
       "<polygon fill=\"black\" stroke=\"black\" points=\"1531.09,-186.084 1521.11,-182.529 1526.69,-191.532 1531.09,-186.084\"/>\n",
       "</g>\n",
       "<!-- 139771017566920 -->\n",
       "<g id=\"node16\" class=\"node\"><title>139771017566920</title>\n",
       "<polygon fill=\"none\" stroke=\"black\" points=\"2633.5,-146.5 2633.5,-182.5 2816.5,-182.5 2816.5,-146.5 2633.5,-146.5\"/>\n",
       "<text text-anchor=\"middle\" x=\"2725\" y=\"-160.8\" font-family=\"Times,serif\" font-size=\"14.00\">indicator&#45;Movie: Dense</text>\n",
       "</g>\n",
       "<!-- 139771100140152&#45;&gt;139771017566920 -->\n",
       "<g id=\"edge26\" class=\"edge\"><title>139771100140152&#45;&gt;139771017566920</title>\n",
       "<path fill=\"none\" stroke=\"black\" d=\"M1665.59,-235.669C1836.7,-233.148 2259.44,-223.145 2623.21,-182.999\"/>\n",
       "<polygon fill=\"black\" stroke=\"black\" points=\"2623.86,-186.448 2633.41,-181.863 2623.08,-179.491 2623.86,-186.448\"/>\n",
       "</g>\n",
       "<!-- 139771014259600 -->\n",
       "<g id=\"node17\" class=\"node\"><title>139771014259600</title>\n",
       "<polygon fill=\"none\" stroke=\"black\" points=\"1629,-73.5 1629,-109.5 1891,-109.5 1891,-73.5 1629,-73.5\"/>\n",
       "<text text-anchor=\"middle\" x=\"1760\" y=\"-87.8\" font-family=\"Times,serif\" font-size=\"14.00\">indicator&#45;cinematographer: Dense</text>\n",
       "</g>\n",
       "<!-- 139771017695128&#45;&gt;139771014259600 -->\n",
       "<g id=\"edge27\" class=\"edge\"><title>139771017695128&#45;&gt;139771014259600</title>\n",
       "<path fill=\"none\" stroke=\"black\" d=\"M1741.05,-146.313C1743.94,-138.115 1747.46,-128.123 1750.67,-118.985\"/>\n",
       "<polygon fill=\"black\" stroke=\"black\" points=\"1753.98,-120.124 1754,-109.529 1747.38,-117.799 1753.98,-120.124\"/>\n",
       "</g>\n",
       "<!-- 139771017262192 -->\n",
       "<g id=\"node18\" class=\"node\"><title>139771017262192</title>\n",
       "<polygon fill=\"none\" stroke=\"black\" points=\"1909,-73.5 1909,-109.5 2091,-109.5 2091,-73.5 1909,-73.5\"/>\n",
       "<text text-anchor=\"middle\" x=\"2000\" y=\"-87.8\" font-family=\"Times,serif\" font-size=\"14.00\">indicator&#45;editor: Dense</text>\n",
       "</g>\n",
       "<!-- 139771100140040&#45;&gt;139771017262192 -->\n",
       "<g id=\"edge28\" class=\"edge\"><title>139771100140040&#45;&gt;139771017262192</title>\n",
       "<path fill=\"none\" stroke=\"black\" d=\"M1971.2,-146.313C1975.68,-137.941 1981.16,-127.697 1986.14,-118.403\"/>\n",
       "<polygon fill=\"black\" stroke=\"black\" points=\"1989.25,-119.997 1990.89,-109.529 1983.08,-116.694 1989.25,-119.997\"/>\n",
       "</g>\n",
       "<!-- 139771016861008 -->\n",
       "<g id=\"node19\" class=\"node\"><title>139771016861008</title>\n",
       "<polygon fill=\"none\" stroke=\"black\" points=\"2109.5,-73.5 2109.5,-109.5 2292.5,-109.5 2292.5,-73.5 2109.5,-73.5\"/>\n",
       "<text text-anchor=\"middle\" x=\"2201\" y=\"-87.8\" font-family=\"Times,serif\" font-size=\"14.00\">indicator&#45;writer: Dense</text>\n",
       "</g>\n",
       "<!-- 139771022544232&#45;&gt;139771016861008 -->\n",
       "<g id=\"edge29\" class=\"edge\"><title>139771022544232&#45;&gt;139771016861008</title>\n",
       "<path fill=\"none\" stroke=\"black\" d=\"M2162.35,-146.313C2168.48,-137.766 2176.02,-127.269 2182.81,-117.823\"/>\n",
       "<polygon fill=\"black\" stroke=\"black\" points=\"2185.78,-119.693 2188.77,-109.529 2180.09,-115.609 2185.78,-119.693\"/>\n",
       "</g>\n",
       "<!-- 139771016988488 -->\n",
       "<g id=\"node20\" class=\"node\"><title>139771016988488</title>\n",
       "<polygon fill=\"none\" stroke=\"black\" points=\"2311,-73.5 2311,-109.5 2515,-109.5 2515,-73.5 2311,-73.5\"/>\n",
       "<text text-anchor=\"middle\" x=\"2413\" y=\"-87.8\" font-family=\"Times,serif\" font-size=\"14.00\">indicator&#45;producer: Dense</text>\n",
       "</g>\n",
       "<!-- 139771021857232&#45;&gt;139771016988488 -->\n",
       "<g id=\"edge30\" class=\"edge\"><title>139771021857232&#45;&gt;139771016988488</title>\n",
       "<path fill=\"none\" stroke=\"black\" d=\"M2364.49,-146.313C2372.43,-137.505 2382.24,-126.625 2390.95,-116.958\"/>\n",
       "<polygon fill=\"black\" stroke=\"black\" points=\"2393.55,-119.3 2397.65,-109.529 2388.35,-114.613 2393.55,-119.3\"/>\n",
       "</g>\n",
       "<!-- 139771016583600 -->\n",
       "<g id=\"node21\" class=\"node\"><title>139771016583600</title>\n",
       "<polygon fill=\"none\" stroke=\"black\" points=\"2533,-73.5 2533,-109.5 2697,-109.5 2697,-73.5 2533,-73.5\"/>\n",
       "<text text-anchor=\"middle\" x=\"2615\" y=\"-87.8\" font-family=\"Times,serif\" font-size=\"14.00\">indicator&#45;self: Dense</text>\n",
       "</g>\n",
       "<!-- 139771020169736&#45;&gt;139771016583600 -->\n",
       "<g id=\"edge31\" class=\"edge\"><title>139771020169736&#45;&gt;139771016583600</title>\n",
       "<path fill=\"none\" stroke=\"black\" d=\"M2557.4,-146.313C2567.01,-137.33 2578.93,-126.193 2589.43,-116.386\"/>\n",
       "<polygon fill=\"black\" stroke=\"black\" points=\"2591.85,-118.913 2596.77,-109.529 2587.08,-113.798 2591.85,-118.913\"/>\n",
       "</g>\n",
       "<!-- 139771016719720 -->\n",
       "<g id=\"node22\" class=\"node\"><title>139771016719720</title>\n",
       "<polygon fill=\"none\" stroke=\"black\" points=\"206.5,-73.5 206.5,-109.5 397.5,-109.5 397.5,-73.5 206.5,-73.5\"/>\n",
       "<text text-anchor=\"middle\" x=\"302\" y=\"-87.8\" font-family=\"Times,serif\" font-size=\"14.00\">indicator&#45;actress: Dense</text>\n",
       "</g>\n",
       "<!-- 139771019744368&#45;&gt;139771016719720 -->\n",
       "<g id=\"edge32\" class=\"edge\"><title>139771019744368&#45;&gt;139771016719720</title>\n",
       "<path fill=\"none\" stroke=\"black\" d=\"M341.412,-146.313C335.153,-137.766 327.465,-127.269 320.546,-117.823\"/>\n",
       "<polygon fill=\"black\" stroke=\"black\" points=\"323.204,-115.528 314.472,-109.529 317.557,-119.665 323.204,-115.528\"/>\n",
       "</g>\n",
       "<!-- 139771016330880 -->\n",
       "<g id=\"node23\" class=\"node\"><title>139771016330880</title>\n",
       "<polygon fill=\"none\" stroke=\"black\" points=\"415.5,-73.5 415.5,-109.5 668.5,-109.5 668.5,-73.5 415.5,-73.5\"/>\n",
       "<text text-anchor=\"middle\" x=\"542\" y=\"-87.8\" font-family=\"Times,serif\" font-size=\"14.00\">indicator&#45;archive_footage: Dense</text>\n",
       "</g>\n",
       "<!-- 139771018539360&#45;&gt;139771016330880 -->\n",
       "<g id=\"edge33\" class=\"edge\"><title>139771018539360&#45;&gt;139771016330880</title>\n",
       "<path fill=\"none\" stroke=\"black\" d=\"M572.317,-146.313C567.6,-137.941 561.829,-127.697 556.593,-118.403\"/>\n",
       "<polygon fill=\"black\" stroke=\"black\" points=\"559.552,-116.523 551.594,-109.529 553.453,-119.959 559.552,-116.523\"/>\n",
       "</g>\n",
       "<!-- 139771016061056 -->\n",
       "<g id=\"node24\" class=\"node\"><title>139771016061056</title>\n",
       "<polygon fill=\"none\" stroke=\"black\" points=\"686.5,-73.5 686.5,-109.5 973.5,-109.5 973.5,-73.5 686.5,-73.5\"/>\n",
       "<text text-anchor=\"middle\" x=\"830\" y=\"-87.8\" font-family=\"Times,serif\" font-size=\"14.00\">indicator&#45;production_designer: Dense</text>\n",
       "</g>\n",
       "<!-- 139771018314864&#45;&gt;139771016061056 -->\n",
       "<g id=\"edge34\" class=\"edge\"><title>139771018314864&#45;&gt;139771016061056</title>\n",
       "<path fill=\"none\" stroke=\"black\" d=\"M850.464,-146.313C847.347,-138.115 843.547,-128.123 840.072,-118.985\"/>\n",
       "<polygon fill=\"black\" stroke=\"black\" points=\"843.302,-117.632 836.476,-109.529 836.759,-120.12 843.302,-117.632\"/>\n",
       "</g>\n",
       "<!-- 139771016180344 -->\n",
       "<g id=\"node25\" class=\"node\"><title>139771016180344</title>\n",
       "<polygon fill=\"none\" stroke=\"black\" points=\"992,-73.5 992,-109.5 1168,-109.5 1168,-73.5 992,-73.5\"/>\n",
       "<text text-anchor=\"middle\" x=\"1080\" y=\"-87.8\" font-family=\"Times,serif\" font-size=\"14.00\">indicator&#45;actor: Dense</text>\n",
       "</g>\n",
       "<!-- 139771018942168&#45;&gt;139771016180344 -->\n",
       "<g id=\"edge35\" class=\"edge\"><title>139771018942168&#45;&gt;139771016180344</title>\n",
       "<path fill=\"none\" stroke=\"black\" d=\"M1090.61,-146.313C1089.03,-138.289 1087.11,-128.547 1085.34,-119.569\"/>\n",
       "<polygon fill=\"black\" stroke=\"black\" points=\"1088.73,-118.663 1083.36,-109.529 1081.86,-120.017 1088.73,-118.663\"/>\n",
       "</g>\n",
       "<!-- 139771015750880 -->\n",
       "<g id=\"node26\" class=\"node\"><title>139771015750880</title>\n",
       "<polygon fill=\"none\" stroke=\"black\" points=\"1186.5,-73.5 1186.5,-109.5 1395.5,-109.5 1395.5,-73.5 1186.5,-73.5\"/>\n",
       "<text text-anchor=\"middle\" x=\"1291\" y=\"-87.8\" font-family=\"Times,serif\" font-size=\"14.00\">indicator&#45;composer: Dense</text>\n",
       "</g>\n",
       "<!-- 139771013656816&#45;&gt;139771015750880 -->\n",
       "<g id=\"edge36\" class=\"edge\"><title>139771013656816&#45;&gt;139771015750880</title>\n",
       "<path fill=\"none\" stroke=\"black\" d=\"M1291.76,-146.313C1291.64,-138.289 1291.51,-128.547 1291.38,-119.569\"/>\n",
       "<polygon fill=\"black\" stroke=\"black\" points=\"1294.88,-119.479 1291.24,-109.529 1287.88,-119.577 1294.88,-119.479\"/>\n",
       "</g>\n",
       "<!-- 139771015882456 -->\n",
       "<g id=\"node27\" class=\"node\"><title>139771015882456</title>\n",
       "<polygon fill=\"none\" stroke=\"black\" points=\"1413.5,-73.5 1413.5,-109.5 1610.5,-109.5 1610.5,-73.5 1413.5,-73.5\"/>\n",
       "<text text-anchor=\"middle\" x=\"1512\" y=\"-87.8\" font-family=\"Times,serif\" font-size=\"14.00\">indicator&#45;director: Dense</text>\n",
       "</g>\n",
       "<!-- 139771015131432&#45;&gt;139771015882456 -->\n",
       "<g id=\"edge37\" class=\"edge\"><title>139771015131432&#45;&gt;139771015882456</title>\n",
       "<path fill=\"none\" stroke=\"black\" d=\"M1502.9,-146.313C1504.26,-138.289 1505.91,-128.547 1507.42,-119.569\"/>\n",
       "<polygon fill=\"black\" stroke=\"black\" points=\"1510.91,-119.972 1509.12,-109.529 1504,-118.806 1510.91,-119.972\"/>\n",
       "</g>\n",
       "<!-- 139771016001856 -->\n",
       "<g id=\"node28\" class=\"node\"><title>139771016001856</title>\n",
       "<polygon fill=\"none\" stroke=\"black\" points=\"1417,-0.5 1417,-36.5 1607,-36.5 1607,-0.5 1417,-0.5\"/>\n",
       "<text text-anchor=\"middle\" x=\"1512\" y=\"-14.8\" font-family=\"Times,serif\" font-size=\"14.00\">Indicators: Concatenate</text>\n",
       "</g>\n",
       "<!-- 139771015409792&#45;&gt;139771016001856 -->\n",
       "<g id=\"edge38\" class=\"edge\"><title>139771015409792&#45;&gt;139771016001856</title>\n",
       "<path fill=\"none\" stroke=\"black\" d=\"M188.233,-73.9946C191.186,-73.6358 194.114,-73.3027 197,-73 645.163,-26.0053 1183.25,-19.6668 1406.73,-19.2336\"/>\n",
       "<polygon fill=\"black\" stroke=\"black\" points=\"1406.82,-22.7336 1416.81,-19.2177 1406.81,-15.7336 1406.82,-22.7336\"/>\n",
       "</g>\n",
       "<!-- 139771017566920&#45;&gt;139771016001856 -->\n",
       "<g id=\"edge39\" class=\"edge\"><title>139771017566920&#45;&gt;139771016001856</title>\n",
       "<path fill=\"none\" stroke=\"black\" d=\"M2727,-146.438C2728.39,-125.587 2727.04,-90.8801 2706,-73 2664.88,-38.0576 1901.96,-24.5747 1617.63,-20.7499\"/>\n",
       "<polygon fill=\"black\" stroke=\"black\" points=\"1617.36,-17.246 1607.31,-20.6125 1617.26,-24.2454 1617.36,-17.246\"/>\n",
       "</g>\n",
       "<!-- 139771014259600&#45;&gt;139771016001856 -->\n",
       "<g id=\"edge40\" class=\"edge\"><title>139771014259600&#45;&gt;139771016001856</title>\n",
       "<path fill=\"none\" stroke=\"black\" d=\"M1700.6,-73.4937C1664.82,-63.2503 1619.08,-50.1568 1581.61,-39.4291\"/>\n",
       "<polygon fill=\"black\" stroke=\"black\" points=\"1582.35,-36.0012 1571.78,-36.6136 1580.43,-42.7308 1582.35,-36.0012\"/>\n",
       "</g>\n",
       "<!-- 139771017262192&#45;&gt;139771016001856 -->\n",
       "<g id=\"edge41\" class=\"edge\"><title>139771017262192&#45;&gt;139771016001856</title>\n",
       "<path fill=\"none\" stroke=\"black\" d=\"M1908.74,-74.3886C1905.79,-73.9135 1902.87,-73.4493 1900,-73 1804.52,-58.0681 1695.47,-43.2267 1617.35,-32.9773\"/>\n",
       "<polygon fill=\"black\" stroke=\"black\" points=\"1617.39,-29.4525 1607.02,-31.625 1616.48,-36.3933 1617.39,-29.4525\"/>\n",
       "</g>\n",
       "<!-- 139771016861008&#45;&gt;139771016001856 -->\n",
       "<g id=\"edge42\" class=\"edge\"><title>139771016861008&#45;&gt;139771016001856</title>\n",
       "<path fill=\"none\" stroke=\"black\" d=\"M2109.39,-74.2946C2106.22,-73.8406 2103.09,-73.4073 2100,-73 1931.76,-50.8079 1735.22,-34.9448 1617.33,-26.5056\"/>\n",
       "<polygon fill=\"black\" stroke=\"black\" points=\"1617.45,-23.0053 1607.23,-25.7866 1616.96,-29.9876 1617.45,-23.0053\"/>\n",
       "</g>\n",
       "<!-- 139771016988488&#45;&gt;139771016001856 -->\n",
       "<g id=\"edge43\" class=\"edge\"><title>139771016988488&#45;&gt;139771016001856</title>\n",
       "<path fill=\"none\" stroke=\"black\" d=\"M2310.81,-74.1562C2307.5,-73.7479 2304.23,-73.3608 2301,-73 2057.08,-45.727 1769.08,-30.4555 1617.51,-23.7232\"/>\n",
       "<polygon fill=\"black\" stroke=\"black\" points=\"1617.42,-20.2161 1607.28,-23.2726 1617.11,-27.2093 1617.42,-20.2161\"/>\n",
       "</g>\n",
       "<!-- 139771016583600&#45;&gt;139771016001856 -->\n",
       "<g id=\"edge44\" class=\"edge\"><title>139771016583600&#45;&gt;139771016001856</title>\n",
       "<path fill=\"none\" stroke=\"black\" d=\"M2532.74,-74.1567C2529.79,-73.7386 2526.87,-73.3507 2524,-73 2194.9,-32.8495 1801.97,-22.8199 1617.49,-20.3225\"/>\n",
       "<polygon fill=\"black\" stroke=\"black\" points=\"1617.3,-16.8198 1607.25,-20.1888 1617.21,-23.8192 1617.3,-16.8198\"/>\n",
       "</g>\n",
       "<!-- 139771016719720&#45;&gt;139771016001856 -->\n",
       "<g id=\"edge45\" class=\"edge\"><title>139771016719720&#45;&gt;139771016001856</title>\n",
       "<path fill=\"none\" stroke=\"black\" d=\"M397.711,-73.9568C400.502,-73.615 403.269,-73.2947 406,-73 772.096,-33.4845 1209.53,-23.1505 1406.59,-20.4517\"/>\n",
       "<polygon fill=\"black\" stroke=\"black\" points=\"1406.7,-23.9507 1416.65,-20.3178 1406.61,-16.9513 1406.7,-23.9507\"/>\n",
       "</g>\n",
       "<!-- 139771016330880&#45;&gt;139771016001856 -->\n",
       "<g id=\"edge46\" class=\"edge\"><title>139771016330880&#45;&gt;139771016001856</title>\n",
       "<path fill=\"none\" stroke=\"black\" d=\"M668.804,-73.819C671.56,-73.5353 674.295,-73.2617 677,-73 938.917,-47.6601 1248.26,-31.3937 1406.76,-24.0478\"/>\n",
       "<polygon fill=\"black\" stroke=\"black\" points=\"1407.15,-27.5335 1416.98,-23.5768 1406.83,-20.5409 1407.15,-27.5335\"/>\n",
       "</g>\n",
       "<!-- 139771016061056&#45;&gt;139771016001856 -->\n",
       "<g id=\"edge47\" class=\"edge\"><title>139771016061056&#45;&gt;139771016001856</title>\n",
       "<path fill=\"none\" stroke=\"black\" d=\"M973.736,-74.0041C976.852,-73.6645 979.943,-73.3294 983,-73 1129.92,-57.1688 1299.96,-40.2163 1406.74,-29.7356\"/>\n",
       "<polygon fill=\"black\" stroke=\"black\" points=\"1407.27,-33.2012 1416.88,-28.7418 1406.58,-26.2346 1407.27,-33.2012\"/>\n",
       "</g>\n",
       "<!-- 139771016180344&#45;&gt;139771016001856 -->\n",
       "<g id=\"edge48\" class=\"edge\"><title>139771016180344&#45;&gt;139771016001856</title>\n",
       "<path fill=\"none\" stroke=\"black\" d=\"M1168.01,-74.5413C1171.05,-74.0171 1174.05,-73.502 1177,-73 1253.91,-59.9231 1340.91,-46.0565 1406.97,-35.7179\"/>\n",
       "<polygon fill=\"black\" stroke=\"black\" points=\"1407.64,-39.1566 1416.97,-34.1542 1406.55,-32.2405 1407.64,-39.1566\"/>\n",
       "</g>\n",
       "<!-- 139771015750880&#45;&gt;139771016001856 -->\n",
       "<g id=\"edge49\" class=\"edge\"><title>139771015750880&#45;&gt;139771016001856</title>\n",
       "<path fill=\"none\" stroke=\"black\" d=\"M1343.94,-73.4937C1375.55,-63.3375 1415.88,-50.3795 1449.11,-39.7035\"/>\n",
       "<polygon fill=\"black\" stroke=\"black\" points=\"1450.28,-43.0046 1458.73,-36.6136 1448.14,-36.3401 1450.28,-43.0046\"/>\n",
       "</g>\n",
       "<!-- 139771015882456&#45;&gt;139771016001856 -->\n",
       "<g id=\"edge50\" class=\"edge\"><title>139771015882456&#45;&gt;139771016001856</title>\n",
       "<path fill=\"none\" stroke=\"black\" d=\"M1512,-73.3129C1512,-65.2895 1512,-55.5475 1512,-46.5691\"/>\n",
       "<polygon fill=\"black\" stroke=\"black\" points=\"1515.5,-46.5288 1512,-36.5288 1508.5,-46.5289 1515.5,-46.5288\"/>\n",
       "</g>\n",
       "</g>\n",
       "</svg>\n"
      ],
      "text/plain": [
       "<snn.utils.Graph at 0x7f1ef9a71390>"
      ]
     },
     "execution_count": 14,
     "metadata": {},
     "output_type": "execute_result"
    }
   ],
   "source": [
    "draw(snn_model)"
   ]
  },
  {
   "cell_type": "code",
   "execution_count": 15,
   "metadata": {},
   "outputs": [
    {
     "data": {
      "text/plain": [
       "array([[1, 0, 1, ..., 0, 1, 0],\n",
       "       [0, 0, 1, ..., 1, 0, 0],\n",
       "       [1, 1, 1, ..., 0, 0, 0],\n",
       "       ...,\n",
       "       [1, 1, 0, ..., 1, 1, 0],\n",
       "       [0, 1, 1, ..., 1, 1, 1],\n",
       "       [0, 0, 1, ..., 1, 1, 1]])"
      ]
     },
     "execution_count": 15,
     "metadata": {},
     "output_type": "execute_result"
    }
   ],
   "source": [
    "yp = snn_model.predict(Xt)\n",
    "yp = (yp > 0.5).astype(int)\n",
    "yp"
   ]
  },
  {
   "cell_type": "code",
   "execution_count": 16,
   "metadata": {},
   "outputs": [
    {
     "data": {
      "text/plain": [
       "array([[0., 0., 0., ..., 0., 0., 0.],\n",
       "       [0., 0., 0., ..., 0., 0., 1.],\n",
       "       [0., 0., 1., ..., 0., 0., 0.],\n",
       "       ...,\n",
       "       [0., 0., 0., ..., 0., 0., 0.],\n",
       "       [0., 0., 0., ..., 1., 0., 0.],\n",
       "       [0., 0., 0., ..., 0., 0., 0.]])"
      ]
     },
     "execution_count": 16,
     "metadata": {},
     "output_type": "execute_result"
    }
   ],
   "source": [
    "yt = snn.map(y)\n",
    "yt"
   ]
  },
  {
   "cell_type": "code",
   "execution_count": 17,
   "metadata": {},
   "outputs": [
    {
     "data": {
      "text/plain": [
       "0.4819376923076923"
      ]
     },
     "execution_count": 17,
     "metadata": {},
     "output_type": "execute_result"
    }
   ],
   "source": [
    "(yp == yt).mean()"
   ]
  },
  {
   "cell_type": "code",
   "execution_count": null,
   "metadata": {
    "scrolled": true
   },
   "outputs": [
    {
     "name": "stdout",
     "output_type": "stream",
     "text": [
      "Train on 90000 samples, validate on 10000 samples\n",
      "Epoch 1/10\n",
      "90000/90000 [==============================] - 64s 708us/step - loss: 0.1134 - val_loss: 0.1286\n",
      "Epoch 2/10\n",
      "90000/90000 [==============================] - 62s 689us/step - loss: 0.0837 - val_loss: 0.1266\n",
      "Epoch 3/10\n",
      "90000/90000 [==============================] - 61s 674us/step - loss: 0.0781 - val_loss: 0.1327\n",
      "Epoch 4/10\n",
      "29920/90000 [========>.....................] - ETA: 39s - loss: 0.0732"
     ]
    }
   ],
   "source": [
    "snn_model.fit(Xt, yt, epochs=10, validation_split=0.1)"
   ]
  },
  {
   "cell_type": "code",
   "execution_count": null,
   "metadata": {},
   "outputs": [],
   "source": [
    "yp = snn_model.predict(Xt)\n",
    "yp = (yp > 0.5).astype(int)\n",
    "(yp == yt).mean()"
   ]
  },
  {
   "cell_type": "code",
   "execution_count": null,
   "metadata": {},
   "outputs": [],
   "source": []
  }
 ],
 "metadata": {
  "kernelspec": {
   "display_name": "Python 3",
   "language": "python",
   "name": "python3"
  },
  "language_info": {
   "codemirror_mode": {
    "name": "ipython",
    "version": 3
   },
   "file_extension": ".py",
   "mimetype": "text/x-python",
   "name": "python",
   "nbconvert_exporter": "python",
   "pygments_lexer": "ipython3",
   "version": "3.5.2"
  }
 },
 "nbformat": 4,
 "nbformat_minor": 2
}
