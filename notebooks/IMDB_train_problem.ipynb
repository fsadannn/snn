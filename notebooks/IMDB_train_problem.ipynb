{
 "cells": [
  {
   "cell_type": "code",
   "execution_count": null,
   "metadata": {},
   "outputs": [],
   "source": [
    "import random\n",
    "import numpy as np\n",
    "from sklearn.feature_extraction.text import CountVectorizer\n",
    "from sklearn.model_selection import train_test_split\n",
    "from keras.layers import Embedding, Dense, Input, Flatten, Concatenate, Dropout\n",
    "from keras.models import Model, load_model, Sequential\n",
    "from keras.utils import to_categorical, plot_model\n",
    "import pydot\n",
    "import keras.optimizers as kop\n",
    "from keras import backend as K\n",
    "import json\n",
    "from nltk.corpus import movie_reviews\n",
    "from NNmodels import OntoEmbeding2, Relation"
   ]
  },
  {
   "cell_type": "code",
   "execution_count": 2,
   "metadata": {},
   "outputs": [],
   "source": [
    "MODEL_NAME = \"IMDB_ONTO_EMBEDING2\""
   ]
  },
  {
   "cell_type": "code",
   "execution_count": 3,
   "metadata": {},
   "outputs": [],
   "source": [
    "ttt = json.load(open(MODEL_NAME+'_data.json'))"
   ]
  },
  {
   "cell_type": "code",
   "execution_count": 4,
   "metadata": {},
   "outputs": [],
   "source": [
    "entities = ttt['entities']\n",
    "vocab = ttt['vocabulary']\n",
    "relations = ttt['relations']"
   ]
  },
  {
   "cell_type": "code",
   "execution_count": 5,
   "metadata": {},
   "outputs": [],
   "source": [
    "del ttt"
   ]
  },
  {
   "cell_type": "code",
   "execution_count": 6,
   "metadata": {},
   "outputs": [],
   "source": [
    "cv = CountVectorizer(vocabulary=vocab)"
   ]
  },
  {
   "cell_type": "code",
   "execution_count": 10,
   "metadata": {},
   "outputs": [],
   "source": [
    "modelonto = load_model(MODEL_NAME+'.model',custom_objects={'Relation':Relation})"
   ]
  },
  {
   "cell_type": "code",
   "execution_count": 11,
   "metadata": {},
   "outputs": [],
   "source": [
    "# parámetros de la red\n",
    "sentence_size = len(vocab)\n",
    "neurons_per_ent = 10\n",
    "neurons_per_rel = 2*neurons_per_ent\n",
    "# construir la red ontológica\n",
    "# entrada\n",
    "sentence_input = Input(shape=(sentence_size,), name='input')\n",
    "# red\n",
    "onto = OntoEmbeding2(entities,relations)(sentence_input,neurons_per_ent,neurons_per_rel)\n",
    "# modelo final\n",
    "prmodel = Model(inputs=sentence_input, outputs=onto,name='OntologyEmbeding')"
   ]
  },
  {
   "cell_type": "code",
   "execution_count": 12,
   "metadata": {},
   "outputs": [],
   "source": [
    "#copiar pesos de las capas entrenadas a la nueva red\n",
    "for i in prmodel.layers:\n",
    "    if i.weights and i.name:\n",
    "        try:\n",
    "            tt = modelonto.get_layer(i.name)\n",
    "        except ValueError:\n",
    "            continue\n",
    "        i.set_weights(tt.get_weights())"
   ]
  },
  {
   "cell_type": "code",
   "execution_count": 13,
   "metadata": {},
   "outputs": [],
   "source": [
    "prmodel.trainable = False"
   ]
  },
  {
   "cell_type": "code",
   "execution_count": 14,
   "metadata": {},
   "outputs": [],
   "source": [
    "model = Sequential()\n",
    "model.add(prmodel)\n",
    "ll = len(entities)*neurons_per_ent + len(relations)*neurons_per_rel\n",
    "model.add(Dense(ll,activation = 'relu'))\n",
    "model.add(Dense(8*ll//10,activation = 'relu'))\n",
    "model.add(Dense(8*ll//10,activation = 'relu'))\n",
    "model.add(Dense(1, activation = 'sigmoid', name='out'))\n",
    "#opt = kop.SGD(lr=0.5,momentum=0.9,decay=0.9,nesterov=True)\n",
    "model.compile(optimizer='RMSprop', loss='binary_crossentropy', metrics=['acc'])"
   ]
  },
  {
   "cell_type": "code",
   "execution_count": 15,
   "metadata": {},
   "outputs": [],
   "source": [
    "del modelonto"
   ]
  },
  {
   "cell_type": "code",
   "execution_count": 16,
   "metadata": {},
   "outputs": [],
   "source": [
    "MODEL_NAME +='_problem'\n",
    "from IPython.display import SVG\n",
    "from keras.utils.vis_utils import model_to_dot\n",
    "\n",
    "mm=model_to_dot(model, rankdir='LR').create(prog='dot', format='pdf')\n",
    "with open(MODEL_NAME+'.pdf','wb') as f:\n",
    "    f.write(mm)"
   ]
  },
  {
   "cell_type": "code",
   "execution_count": 17,
   "metadata": {},
   "outputs": [
    {
     "name": "stdout",
     "output_type": "stream",
     "text": [
      "_________________________________________________________________\n",
      "Layer (type)                 Output Shape              Param #   \n",
      "=================================================================\n",
      "OntologyEmbeding (Model)     (None, 240)               5350620   \n",
      "_________________________________________________________________\n",
      "dense_1 (Dense)              (None, 240)               57840     \n",
      "_________________________________________________________________\n",
      "dense_2 (Dense)              (None, 192)               46272     \n",
      "_________________________________________________________________\n",
      "dense_3 (Dense)              (None, 192)               37056     \n",
      "_________________________________________________________________\n",
      "out (Dense)                  (None, 1)                 193       \n",
      "=================================================================\n",
      "Total params: 5,491,981\n",
      "Trainable params: 141,361\n",
      "Non-trainable params: 5,350,620\n",
      "_________________________________________________________________\n"
     ]
    }
   ],
   "source": [
    "model.summary()"
   ]
  },
  {
   "cell_type": "code",
   "execution_count": 18,
   "metadata": {},
   "outputs": [],
   "source": [
    "#xtrain,xtest,ytrain,ytest = train_test_split(data, res, train_size=0.9)\n",
    "#del data,res"
   ]
  },
  {
   "cell_type": "code",
   "execution_count": 19,
   "metadata": {},
   "outputs": [],
   "source": [
    "import pickle"
   ]
  },
  {
   "cell_type": "code",
   "execution_count": 20,
   "metadata": {},
   "outputs": [],
   "source": [
    "xtrain=pickle.load(open('xtrain.pickle','rb'))\n",
    "ytrain=pickle.load(open('ytrain.pickle','rb'))\n",
    "xtest=pickle.load(open('xtest.pickle','rb'))\n",
    "ytest=pickle.load(open('ytest.pickle','rb'))"
   ]
  },
  {
   "cell_type": "code",
   "execution_count": 21,
   "metadata": {},
   "outputs": [],
   "source": [
    "ltrain=len(xtrain)\n",
    "ltest = len(xtest)\n",
    "def generate(batch_size=32, train = False):\n",
    "    while True: \n",
    "        data = []\n",
    "        res = []\n",
    "        if train:\n",
    "            samples_n = np.random.randint(ltrain,size=batch_size)\n",
    "            for i in samples_n:\n",
    "                data.append(xtrain[i])\n",
    "                res.append(ytrain[i])\n",
    "        else:\n",
    "            samples_n = np.random.randint(ltest,size=batch_size)\n",
    "            for i in samples_n:\n",
    "                data.append(xtest[i])\n",
    "                res.append(ytest[i])\n",
    "        data = cv.transform(data)\n",
    "        res = np.array(res)\n",
    "        yield data.toarray(),res"
   ]
  },
  {
   "cell_type": "code",
   "execution_count": 22,
   "metadata": {},
   "outputs": [
    {
     "name": "stdout",
     "output_type": "stream",
     "text": [
      "Epoch 1/10\n",
      "100/100 [==============================] - 14s 136ms/step - loss: 0.7861 - acc: 0.5275 - val_loss: 0.7010 - val_acc: 0.5160\n",
      "Epoch 2/10\n",
      "100/100 [==============================] - 14s 138ms/step - loss: 0.6984 - acc: 0.5109 - val_loss: 0.6895 - val_acc: 0.5520\n",
      "Epoch 3/10\n",
      "100/100 [==============================] - 14s 144ms/step - loss: 0.6942 - acc: 0.5326 - val_loss: 0.6881 - val_acc: 0.5260\n",
      "Epoch 4/10\n",
      "100/100 [==============================] - 14s 138ms/step - loss: 0.6933 - acc: 0.5305 - val_loss: 0.6911 - val_acc: 0.5120\n",
      "Epoch 5/10\n",
      "100/100 [==============================] - 14s 138ms/step - loss: 0.6916 - acc: 0.5350 - val_loss: 0.6886 - val_acc: 0.5360\n",
      "Epoch 6/10\n",
      "100/100 [==============================] - 14s 138ms/step - loss: 0.6918 - acc: 0.5350 - val_loss: 0.6923 - val_acc: 0.5240\n",
      "Epoch 7/10\n",
      "100/100 [==============================] - 14s 140ms/step - loss: 0.6924 - acc: 0.5248 - val_loss: 0.6887 - val_acc: 0.5270\n",
      "Epoch 8/10\n",
      "100/100 [==============================] - 14s 142ms/step - loss: 0.6917 - acc: 0.5335 - val_loss: 0.6964 - val_acc: 0.5050\n",
      "Epoch 9/10\n",
      "100/100 [==============================] - 14s 143ms/step - loss: 0.6920 - acc: 0.5325 - val_loss: 0.6888 - val_acc: 0.5390\n",
      "Epoch 10/10\n",
      "100/100 [==============================] - 14s 144ms/step - loss: 0.6927 - acc: 0.5222 - val_loss: 0.6912 - val_acc: 0.5120\n"
     ]
    },
    {
     "data": {
      "text/plain": [
       "<keras.callbacks.History at 0x7f1ffdac96d8>"
      ]
     },
     "execution_count": 22,
     "metadata": {},
     "output_type": "execute_result"
    }
   ],
   "source": [
    "model.fit_generator(generate(100,True), validation_data=generate(100), validation_steps=10, epochs=10, steps_per_epoch=100)"
   ]
  },
  {
   "cell_type": "code",
   "execution_count": 23,
   "metadata": {},
   "outputs": [],
   "source": [
    "model.save(MODEL_NAME+'.model')"
   ]
  },
  {
   "cell_type": "code",
   "execution_count": 24,
   "metadata": {},
   "outputs": [],
   "source": [
    "model.layers[0].trainable=True\n",
    "model.compile(optimizer='RMSprop', loss='binary_crossentropy', metrics=['acc'])"
   ]
  },
  {
   "cell_type": "code",
   "execution_count": 25,
   "metadata": {},
   "outputs": [
    {
     "name": "stdout",
     "output_type": "stream",
     "text": [
      "_________________________________________________________________\n",
      "Layer (type)                 Output Shape              Param #   \n",
      "=================================================================\n",
      "OntologyEmbeding (Model)     (None, 240)               5350620   \n",
      "_________________________________________________________________\n",
      "dense_1 (Dense)              (None, 240)               57840     \n",
      "_________________________________________________________________\n",
      "dense_2 (Dense)              (None, 192)               46272     \n",
      "_________________________________________________________________\n",
      "dense_3 (Dense)              (None, 192)               37056     \n",
      "_________________________________________________________________\n",
      "out (Dense)                  (None, 1)                 193       \n",
      "=================================================================\n",
      "Total params: 5,491,981\n",
      "Trainable params: 5,491,981\n",
      "Non-trainable params: 0\n",
      "_________________________________________________________________\n"
     ]
    }
   ],
   "source": [
    "model.summary()"
   ]
  },
  {
   "cell_type": "code",
   "execution_count": 26,
   "metadata": {},
   "outputs": [
    {
     "name": "stdout",
     "output_type": "stream",
     "text": [
      "Epoch 1/50\n",
      "100/100 [==============================] - 32s 319ms/step - loss: 0.6905 - acc: 0.5383 - val_loss: 0.6722 - val_acc: 0.5800\n",
      "Epoch 2/50\n",
      "100/100 [==============================] - 30s 299ms/step - loss: 0.6664 - acc: 0.5931 - val_loss: 0.6555 - val_acc: 0.6050\n",
      "Epoch 3/50\n",
      "100/100 [==============================] - 30s 298ms/step - loss: 0.6330 - acc: 0.6377 - val_loss: 0.6239 - val_acc: 0.6480\n",
      "Epoch 4/50\n",
      "100/100 [==============================] - 32s 320ms/step - loss: 0.6070 - acc: 0.6654 - val_loss: 0.6269 - val_acc: 0.6450\n",
      "Epoch 5/50\n",
      "100/100 [==============================] - 29s 290ms/step - loss: 0.5868 - acc: 0.6836 - val_loss: 0.6613 - val_acc: 0.6070\n",
      "Epoch 6/50\n",
      "100/100 [==============================] - 29s 289ms/step - loss: 0.5895 - acc: 0.6820 - val_loss: 0.6239 - val_acc: 0.6590\n",
      "Epoch 7/50\n",
      "100/100 [==============================] - 31s 311ms/step - loss: 0.5719 - acc: 0.6992 - val_loss: 0.6314 - val_acc: 0.6480\n",
      "Epoch 8/50\n",
      "100/100 [==============================] - 30s 304ms/step - loss: 0.5636 - acc: 0.7092 - val_loss: 0.6008 - val_acc: 0.6930\n",
      "Epoch 9/50\n",
      "100/100 [==============================] - 31s 308ms/step - loss: 0.5547 - acc: 0.7141 - val_loss: 0.5958 - val_acc: 0.6960\n",
      "Epoch 10/50\n",
      "100/100 [==============================] - 31s 307ms/step - loss: 0.5417 - acc: 0.7216 - val_loss: 0.6133 - val_acc: 0.6680\n",
      "Epoch 11/50\n",
      "100/100 [==============================] - 31s 310ms/step - loss: 0.5464 - acc: 0.7195 - val_loss: 0.6145 - val_acc: 0.6670\n",
      "Epoch 12/50\n",
      "100/100 [==============================] - 31s 312ms/step - loss: 0.5392 - acc: 0.7266 - val_loss: 0.6102 - val_acc: 0.6900\n",
      "Epoch 13/50\n",
      "100/100 [==============================] - 32s 318ms/step - loss: 0.5365 - acc: 0.7250 - val_loss: 0.6281 - val_acc: 0.6710\n",
      "Epoch 14/50\n",
      "100/100 [==============================] - 32s 319ms/step - loss: 0.5384 - acc: 0.7197 - val_loss: 0.5973 - val_acc: 0.6750\n",
      "Epoch 15/50\n",
      "100/100 [==============================] - 31s 315ms/step - loss: 0.5367 - acc: 0.7279 - val_loss: 0.6355 - val_acc: 0.6680\n",
      "Epoch 16/50\n",
      "100/100 [==============================] - 32s 318ms/step - loss: 0.5312 - acc: 0.7293 - val_loss: 0.6054 - val_acc: 0.6770\n",
      "Epoch 17/50\n",
      "100/100 [==============================] - 32s 317ms/step - loss: 0.5243 - acc: 0.7357 - val_loss: 0.6387 - val_acc: 0.6650\n",
      "Epoch 18/50\n",
      "100/100 [==============================] - 32s 317ms/step - loss: 0.5200 - acc: 0.7432 - val_loss: 0.6087 - val_acc: 0.6820\n",
      "Epoch 19/50\n",
      "100/100 [==============================] - 32s 321ms/step - loss: 0.5225 - acc: 0.7388 - val_loss: 0.6228 - val_acc: 0.6530\n",
      "Epoch 20/50\n",
      "100/100 [==============================] - 32s 318ms/step - loss: 0.5103 - acc: 0.7435 - val_loss: 0.6465 - val_acc: 0.6680\n",
      "Epoch 21/50\n",
      "100/100 [==============================] - 32s 317ms/step - loss: 0.5241 - acc: 0.7379 - val_loss: 0.5925 - val_acc: 0.6980\n",
      "Epoch 22/50\n",
      "100/100 [==============================] - 32s 315ms/step - loss: 0.5208 - acc: 0.7401 - val_loss: 0.6039 - val_acc: 0.6830\n",
      "Epoch 23/50\n",
      "100/100 [==============================] - 32s 315ms/step - loss: 0.5091 - acc: 0.7437 - val_loss: 0.6365 - val_acc: 0.6600\n",
      "Epoch 24/50\n",
      "100/100 [==============================] - 32s 322ms/step - loss: 0.5028 - acc: 0.7533 - val_loss: 0.6194 - val_acc: 0.6900\n",
      "Epoch 25/50\n",
      "100/100 [==============================] - 32s 318ms/step - loss: 0.5180 - acc: 0.7403 - val_loss: 0.6030 - val_acc: 0.6860\n",
      "Epoch 26/50\n",
      "100/100 [==============================] - 32s 323ms/step - loss: 0.5004 - acc: 0.7534 - val_loss: 0.6283 - val_acc: 0.6790\n",
      "Epoch 27/50\n",
      "100/100 [==============================] - 33s 329ms/step - loss: 0.5043 - acc: 0.7459 - val_loss: 0.6556 - val_acc: 0.6820\n",
      "Epoch 28/50\n",
      "100/100 [==============================] - 33s 327ms/step - loss: 0.5013 - acc: 0.7542 - val_loss: 0.6572 - val_acc: 0.6610\n",
      "Epoch 29/50\n",
      "100/100 [==============================] - 32s 323ms/step - loss: 0.4917 - acc: 0.7573 - val_loss: 0.6078 - val_acc: 0.6890\n",
      "Epoch 30/50\n",
      "100/100 [==============================] - 32s 322ms/step - loss: 0.4997 - acc: 0.7540 - val_loss: 0.6296 - val_acc: 0.6740\n",
      "Epoch 31/50\n",
      "100/100 [==============================] - 32s 316ms/step - loss: 0.4920 - acc: 0.7579 - val_loss: 0.6362 - val_acc: 0.6680\n",
      "Epoch 32/50\n",
      "100/100 [==============================] - 32s 318ms/step - loss: 0.4957 - acc: 0.7530 - val_loss: 0.6261 - val_acc: 0.6790\n",
      "Epoch 33/50\n",
      "100/100 [==============================] - 32s 321ms/step - loss: 0.4957 - acc: 0.7523 - val_loss: 0.6516 - val_acc: 0.6620\n",
      "Epoch 34/50\n",
      "100/100 [==============================] - 32s 320ms/step - loss: 0.4728 - acc: 0.7671 - val_loss: 0.6416 - val_acc: 0.6820\n",
      "Epoch 35/50\n",
      "100/100 [==============================] - 32s 321ms/step - loss: 0.4802 - acc: 0.7668 - val_loss: 0.6047 - val_acc: 0.6910\n",
      "Epoch 36/50\n",
      "100/100 [==============================] - 32s 320ms/step - loss: 0.4843 - acc: 0.7645 - val_loss: 0.5936 - val_acc: 0.6990\n",
      "Epoch 37/50\n",
      "100/100 [==============================] - 32s 318ms/step - loss: 0.4941 - acc: 0.7605 - val_loss: 0.6320 - val_acc: 0.6910\n",
      "Epoch 38/50\n",
      "100/100 [==============================] - 32s 317ms/step - loss: 0.4866 - acc: 0.7570 - val_loss: 0.6054 - val_acc: 0.6840\n",
      "Epoch 39/50\n",
      "100/100 [==============================] - 32s 319ms/step - loss: 0.4810 - acc: 0.7673 - val_loss: 0.6259 - val_acc: 0.6560\n",
      "Epoch 40/50\n",
      "100/100 [==============================] - 32s 320ms/step - loss: 0.4746 - acc: 0.7679 - val_loss: 0.6209 - val_acc: 0.6720\n",
      "Epoch 41/50\n",
      "100/100 [==============================] - 32s 322ms/step - loss: 0.4725 - acc: 0.7720 - val_loss: 0.6174 - val_acc: 0.6860\n",
      "Epoch 42/50\n",
      "100/100 [==============================] - 32s 318ms/step - loss: 0.4734 - acc: 0.7748 - val_loss: 0.6330 - val_acc: 0.6850\n",
      "Epoch 43/50\n",
      "100/100 [==============================] - 32s 323ms/step - loss: 0.4651 - acc: 0.7708 - val_loss: 0.6251 - val_acc: 0.6940\n",
      "Epoch 44/50\n",
      "100/100 [==============================] - 32s 324ms/step - loss: 0.4718 - acc: 0.7704 - val_loss: 0.6302 - val_acc: 0.7000\n",
      "Epoch 45/50\n",
      "100/100 [==============================] - 32s 321ms/step - loss: 0.4659 - acc: 0.7706 - val_loss: 0.6372 - val_acc: 0.7120\n",
      "Epoch 46/50\n",
      "100/100 [==============================] - 32s 320ms/step - loss: 0.4658 - acc: 0.7701 - val_loss: 0.7324 - val_acc: 0.6420\n",
      "Epoch 47/50\n",
      "100/100 [==============================] - 32s 316ms/step - loss: 0.4662 - acc: 0.7772 - val_loss: 0.6788 - val_acc: 0.6500\n",
      "Epoch 48/50\n",
      "100/100 [==============================] - 32s 320ms/step - loss: 0.4607 - acc: 0.7785 - val_loss: 0.6510 - val_acc: 0.6750\n",
      "Epoch 49/50\n",
      "100/100 [==============================] - 32s 321ms/step - loss: 0.4564 - acc: 0.7795 - val_loss: 0.6293 - val_acc: 0.6670\n",
      "Epoch 50/50\n",
      "100/100 [==============================] - 32s 319ms/step - loss: 0.4625 - acc: 0.7821 - val_loss: 0.5952 - val_acc: 0.7020\n"
     ]
    },
    {
     "data": {
      "text/plain": [
       "<keras.callbacks.History at 0x7f1ffe6ac1d0>"
      ]
     },
     "execution_count": 26,
     "metadata": {},
     "output_type": "execute_result"
    }
   ],
   "source": [
    "model.fit_generator(generate(100,True), validation_data=generate(100), validation_steps=10, epochs=50, steps_per_epoch=100)"
   ]
  },
  {
   "cell_type": "code",
   "execution_count": 27,
   "metadata": {},
   "outputs": [],
   "source": [
    "model.save(MODEL_NAME+'.model')"
   ]
  },
  {
   "cell_type": "code",
   "execution_count": 28,
   "metadata": {},
   "outputs": [],
   "source": [
    "loss, accuracy = model.evaluate_generator(generate(100),100)"
   ]
  },
  {
   "cell_type": "code",
   "execution_count": 29,
   "metadata": {},
   "outputs": [
    {
     "name": "stdout",
     "output_type": "stream",
     "text": [
      "Test loss: 0.66\n",
      "Test accuracy: 67.820%\n"
     ]
    }
   ],
   "source": [
    "print(f\"Test loss: {loss:.3}\")\n",
    "print(f\"Test accuracy: {accuracy:.3%}\")"
   ]
  }
 ],
 "metadata": {
  "kernelspec": {
   "display_name": "Python 3",
   "language": "python",
   "name": "python3"
  },
  "language_info": {
   "codemirror_mode": {
    "name": "ipython",
    "version": 3
   },
   "file_extension": ".py",
   "mimetype": "text/x-python",
   "name": "python",
   "nbconvert_exporter": "python",
   "pygments_lexer": "ipython3",
   "version": "3.6.4"
  }
 },
 "nbformat": 4,
 "nbformat_minor": 2
}
