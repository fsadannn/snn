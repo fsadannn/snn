{
 "cells": [
  {
   "cell_type": "code",
   "execution_count": 156,
   "metadata": {},
   "outputs": [],
   "source": [
    "import json\n",
    "import numpy as np"
   ]
  },
  {
   "cell_type": "code",
   "execution_count": 157,
   "metadata": {},
   "outputs": [],
   "source": [
    "from tensorflow.keras import Model\n",
    "from tensorflow.keras.utils import to_categorical\n",
    "from keras.callbacks import EarlyStopping\n",
    "from tensorflow.keras.layers import Embedding, Dense, InputLayer, Concatenate, Dropout"
   ]
  },
  {
   "cell_type": "code",
   "execution_count": 158,
   "metadata": {},
   "outputs": [],
   "source": [
    "with open(\"../data/json_dataset/annotations_train.json\") as fp:\n",
    "    train = json.load(fp)"
   ]
  },
  {
   "cell_type": "code",
   "execution_count": 159,
   "metadata": {},
   "outputs": [],
   "source": [
    "with open(\"../data/json_dataset/annotations_test.json\") as fp:\n",
    "    test = json.load(fp)"
   ]
  },
  {
   "cell_type": "code",
   "execution_count": 160,
   "metadata": {},
   "outputs": [],
   "source": [
    "def build_model(layers=3, units=200):\n",
    "    object_input = Input((100,))\n",
    "    subject_input = Input((100,))\n",
    "    concat = Concatenate()([object_input, subject_input])\n",
    "    inputs = concat\n",
    "\n",
    "    for _ in range(LAYERS):\n",
    "        inputs = Dense(units=UNITS, activation='relu')(inputs)\n",
    "        inputs = Dropout(0.5)(inputs)\n",
    "\n",
    "    relation = Dense(units=70, activation=\"softmax\")(inputs)\n",
    "\n",
    "    model = Model(inputs=(object_input, subject_input), outputs=relation)\n",
    "    model.compile(optimizer='adam', loss='categorical_crossentropy')\n",
    "    return model"
   ]
  },
  {
   "cell_type": "code",
   "execution_count": 161,
   "metadata": {},
   "outputs": [
    {
     "name": "stdout",
     "output_type": "stream",
     "text": [
      "__________________________________________________________________________________________________\n",
      "Layer (type)                    Output Shape         Param #     Connected to                     \n",
      "==================================================================================================\n",
      "input_31 (InputLayer)           (None, 100)          0                                            \n",
      "__________________________________________________________________________________________________\n",
      "input_32 (InputLayer)           (None, 100)          0                                            \n",
      "__________________________________________________________________________________________________\n",
      "concatenate_16 (Concatenate)    (None, 200)          0           input_31[0][0]                   \n",
      "                                                                 input_32[0][0]                   \n",
      "__________________________________________________________________________________________________\n",
      "dense_36 (Dense)                (None, 200)          40200       concatenate_16[0][0]             \n",
      "__________________________________________________________________________________________________\n",
      "dropout_9 (Dropout)             (None, 200)          0           dense_36[0][0]                   \n",
      "__________________________________________________________________________________________________\n",
      "dense_37 (Dense)                (None, 200)          40200       dropout_9[0][0]                  \n",
      "__________________________________________________________________________________________________\n",
      "dropout_10 (Dropout)            (None, 200)          0           dense_37[0][0]                   \n",
      "__________________________________________________________________________________________________\n",
      "dense_38 (Dense)                (None, 200)          40200       dropout_10[0][0]                 \n",
      "__________________________________________________________________________________________________\n",
      "dropout_11 (Dropout)            (None, 200)          0           dense_38[0][0]                   \n",
      "__________________________________________________________________________________________________\n",
      "dense_39 (Dense)                (None, 70)           14070       dropout_11[0][0]                 \n",
      "==================================================================================================\n",
      "Total params: 134,670\n",
      "Trainable params: 134,670\n",
      "Non-trainable params: 0\n",
      "__________________________________________________________________________________________________\n"
     ]
    }
   ],
   "source": [
    "model = build_model()\n",
    "model.summary()"
   ]
  },
  {
   "cell_type": "code",
   "execution_count": 166,
   "metadata": {},
   "outputs": [],
   "source": [
    "def get_data(src, train=True):\n",
    "    objects = []\n",
    "    subjects = []\n",
    "    relations = []\n",
    "\n",
    "    for anns in src.values():\n",
    "        for ann in anns:\n",
    "            objects.append(ann['object']['category'])\n",
    "            subjects.append(ann['subject']['category'])\n",
    "            relations.append(ann['predicate'])\n",
    "            \n",
    "    xobj = to_categorical(objects)\n",
    "    xsub = to_categorical(subjects)\n",
    "    if train:\n",
    "        y = to_categorical(relations)\n",
    "    else:\n",
    "        y = np.asarray(relations)\n",
    "    \n",
    "    return (xobj, xsub), y"
   ]
  },
  {
   "cell_type": "code",
   "execution_count": 167,
   "metadata": {},
   "outputs": [
    {
     "name": "stdout",
     "output_type": "stream",
     "text": [
      "Train on 27319 samples, validate on 3036 samples\n",
      "Epoch 1/100\n",
      "27319/27319 [==============================] - 4s 145us/step - loss: 1.6393 - val_loss: 1.6182\n",
      "Epoch 2/100\n",
      "27319/27319 [==============================] - 4s 147us/step - loss: 1.6284 - val_loss: 1.6076\n",
      "Epoch 3/100\n",
      "27319/27319 [==============================] - 4s 156us/step - loss: 1.6258 - val_loss: 1.6122\n",
      "Epoch 4/100\n",
      "27319/27319 [==============================] - 4s 149us/step - loss: 1.6171 - val_loss: 1.6009\n",
      "Epoch 5/100\n",
      "27319/27319 [==============================] - 4s 148us/step - loss: 1.6070 - val_loss: 1.6071\n",
      "Epoch 6/100\n",
      "27319/27319 [==============================] - 4s 149us/step - loss: 1.6046 - val_loss: 1.6052\n"
     ]
    },
    {
     "data": {
      "text/plain": [
       "<tensorflow.python.keras.callbacks.History at 0x7f0c11125588>"
      ]
     },
     "execution_count": 167,
     "metadata": {},
     "output_type": "execute_result"
    }
   ],
   "source": [
    "x,y = get_data(train)\n",
    "model.fit(x=x, y=y, epochs=100, validation_split=0.1, callbacks=[EarlyStopping(patience=2, restore_best_weights=True)])"
   ]
  },
  {
   "cell_type": "code",
   "execution_count": 170,
   "metadata": {},
   "outputs": [
    {
     "data": {
      "text/plain": [
       "0.5331238544121498"
      ]
     },
     "execution_count": 170,
     "metadata": {},
     "output_type": "execute_result"
    }
   ],
   "source": [
    "x,y = get_data(test, train=False)\n",
    "ypred = model.predict(x)\n",
    "ypred = ypred.argmax(axis=-1)\n",
    "(y == ypred).astype(float).mean()"
   ]
  }
 ],
 "metadata": {
  "kernelspec": {
   "display_name": "Python 3",
   "language": "python",
   "name": "python3"
  },
  "language_info": {
   "codemirror_mode": {
    "name": "ipython",
    "version": 3
   },
   "file_extension": ".py",
   "mimetype": "text/x-python",
   "name": "python",
   "nbconvert_exporter": "python",
   "pygments_lexer": "ipython3",
   "version": "3.5.2"
  }
 },
 "nbformat": 4,
 "nbformat_minor": 2
}
