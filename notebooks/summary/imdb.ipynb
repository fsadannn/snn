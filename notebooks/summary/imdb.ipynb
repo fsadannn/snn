{
 "cells": [
  {
   "cell_type": "code",
   "execution_count": 1,
   "metadata": {},
   "outputs": [],
   "source": [
    "import pandas as pd"
   ]
  },
  {
   "cell_type": "code",
   "execution_count": 2,
   "metadata": {},
   "outputs": [
    {
     "name": "stderr",
     "output_type": "stream",
     "text": [
      "Using Theano backend.\n"
     ]
    }
   ],
   "source": [
    "from keras.layers import Input, Dense\n",
    "from snn import SNN, Entity, Relation"
   ]
  },
  {
   "cell_type": "code",
   "execution_count": 3,
   "metadata": {},
   "outputs": [],
   "source": [
    "Person = Entity(\"Person\")\n",
    "Movie = Entity(\"Movie\")"
   ]
  },
  {
   "cell_type": "code",
   "execution_count": 4,
   "metadata": {},
   "outputs": [],
   "source": [
    "df = pd.read_csv(\"../data/relations.tsv\", sep=\"\\t\", names=['Movie', 'Relation', 'Person'], nrows=10000)"
   ]
  },
  {
   "cell_type": "code",
   "execution_count": 5,
   "metadata": {},
   "outputs": [
    {
     "data": {
      "text/html": [
       "<div>\n",
       "<style scoped>\n",
       "    .dataframe tbody tr th:only-of-type {\n",
       "        vertical-align: middle;\n",
       "    }\n",
       "\n",
       "    .dataframe tbody tr th {\n",
       "        vertical-align: top;\n",
       "    }\n",
       "\n",
       "    .dataframe thead th {\n",
       "        text-align: right;\n",
       "    }\n",
       "</style>\n",
       "<table border=\"1\" class=\"dataframe\">\n",
       "  <thead>\n",
       "    <tr style=\"text-align: right;\">\n",
       "      <th></th>\n",
       "      <th>Movie</th>\n",
       "      <th>Relation</th>\n",
       "      <th>Person</th>\n",
       "    </tr>\n",
       "  </thead>\n",
       "  <tbody>\n",
       "    <tr>\n",
       "      <th>0</th>\n",
       "      <td>Carmencita</td>\n",
       "      <td>self</td>\n",
       "      <td>Carmencita</td>\n",
       "    </tr>\n",
       "    <tr>\n",
       "      <th>1</th>\n",
       "      <td>Carmencita</td>\n",
       "      <td>director</td>\n",
       "      <td>William K.L. Dickson</td>\n",
       "    </tr>\n",
       "    <tr>\n",
       "      <th>2</th>\n",
       "      <td>Carmencita</td>\n",
       "      <td>cinematographer</td>\n",
       "      <td>William Heise</td>\n",
       "    </tr>\n",
       "    <tr>\n",
       "      <th>3</th>\n",
       "      <td>Le clown et ses chiens</td>\n",
       "      <td>director</td>\n",
       "      <td>Émile Reynaud</td>\n",
       "    </tr>\n",
       "    <tr>\n",
       "      <th>4</th>\n",
       "      <td>Le clown et ses chiens</td>\n",
       "      <td>composer</td>\n",
       "      <td>Gaston Paulin</td>\n",
       "    </tr>\n",
       "  </tbody>\n",
       "</table>\n",
       "</div>"
      ],
      "text/plain": [
       "                    Movie         Relation                Person\n",
       "0              Carmencita             self            Carmencita\n",
       "1              Carmencita         director  William K.L. Dickson\n",
       "2              Carmencita  cinematographer         William Heise\n",
       "3  Le clown et ses chiens         director         Émile Reynaud\n",
       "4  Le clown et ses chiens         composer         Gaston Paulin"
      ]
     },
     "execution_count": 5,
     "metadata": {},
     "output_type": "execute_result"
    }
   ],
   "source": [
    "df.head()"
   ]
  },
  {
   "cell_type": "code",
   "execution_count": 6,
   "metadata": {},
   "outputs": [
    {
     "data": {
      "text/plain": [
       "{'self': self(<Movie> , <Person>),\n",
       " 'director': director(<Movie> , <Person>),\n",
       " 'cinematographer': cinematographer(<Movie> , <Person>),\n",
       " 'composer': composer(<Movie> , <Person>),\n",
       " 'producer': producer(<Movie> , <Person>),\n",
       " 'editor': editor(<Movie> , <Person>),\n",
       " 'actor': actor(<Movie> , <Person>),\n",
       " 'actress': actress(<Movie> , <Person>),\n",
       " 'writer': writer(<Movie> , <Person>),\n",
       " 'production_designer': production_designer(<Movie> , <Person>)}"
      ]
     },
     "execution_count": 6,
     "metadata": {},
     "output_type": "execute_result"
    }
   ],
   "source": [
    "relations = {l: Relation(label=l, dst=Person, src=Movie) for l in df['Relation'].unique()}\n",
    "relations"
   ]
  },
  {
   "cell_type": "code",
   "execution_count": 7,
   "metadata": {},
   "outputs": [
    {
     "data": {
      "text/plain": [
       "[<Person>, <Movie>]"
      ]
     },
     "execution_count": 7,
     "metadata": {},
     "output_type": "execute_result"
    }
   ],
   "source": [
    "entities = [Person, Movie]\n",
    "entities"
   ]
  },
  {
   "cell_type": "code",
   "execution_count": 8,
   "metadata": {},
   "outputs": [],
   "source": [
    "import json"
   ]
  },
  {
   "cell_type": "code",
   "execution_count": 9,
   "metadata": {},
   "outputs": [],
   "source": [
    "ttt = json.load(open('outs/IMDB_ONTO_EMBEDING_NEW_data.json'))\n",
    "vocab = ttt['vocabulary']\n",
    "del ttt"
   ]
  },
  {
   "cell_type": "code",
   "execution_count": 10,
   "metadata": {},
   "outputs": [],
   "source": [
    "X = [t.Person + \" @ \" + t.Movie for t in df.itertuples()]\n",
    "y = [[relations[t.Relation]] for t in df.itertuples()]"
   ]
  },
  {
   "cell_type": "code",
   "execution_count": 11,
   "metadata": {},
   "outputs": [],
   "source": [
    "from sklearn.feature_extraction.text import CountVectorizer"
   ]
  },
  {
   "cell_type": "code",
   "execution_count": 12,
   "metadata": {},
   "outputs": [],
   "source": [
    "cv = CountVectorizer(vocabulary=vocab)\n",
    "Xt = cv.fit_transform(X)"
   ]
  },
  {
   "cell_type": "code",
   "execution_count": 13,
   "metadata": {},
   "outputs": [],
   "source": [
    "x = Input(shape=(Xt.shape[1],))\n",
    "snn = SNN(entities=entities, relations=relations.values())\n",
    "output = snn(x)"
   ]
  },
  {
   "cell_type": "code",
   "execution_count": 14,
   "metadata": {},
   "outputs": [],
   "source": [
    "from snn.utils import draw"
   ]
  },
  {
   "cell_type": "code",
   "execution_count": 15,
   "metadata": {},
   "outputs": [],
   "source": [
    "snn_model = snn.build(x)"
   ]
  },
  {
   "cell_type": "code",
   "execution_count": 16,
   "metadata": {},
   "outputs": [
    {
     "data": {
      "text/plain": [
       "array([[1, 0, 1, ..., 1, 1, 1],\n",
       "       [1, 0, 1, ..., 1, 1, 0],\n",
       "       [1, 0, 1, ..., 1, 1, 0],\n",
       "       ...,\n",
       "       [1, 1, 1, ..., 0, 1, 1],\n",
       "       [0, 1, 1, ..., 0, 1, 1],\n",
       "       [0, 1, 0, ..., 0, 1, 0]])"
      ]
     },
     "execution_count": 16,
     "metadata": {},
     "output_type": "execute_result"
    }
   ],
   "source": [
    "yp = snn_model.predict(Xt)\n",
    "yp = (yp > 0.5).astype(int)\n",
    "yp"
   ]
  },
  {
   "cell_type": "code",
   "execution_count": 17,
   "metadata": {},
   "outputs": [
    {
     "data": {
      "text/plain": [
       "array([[0., 0., 1., ..., 0., 0., 0.],\n",
       "       [0., 0., 0., ..., 0., 0., 0.],\n",
       "       [0., 0., 0., ..., 0., 0., 0.],\n",
       "       ...,\n",
       "       [0., 0., 0., ..., 1., 0., 0.],\n",
       "       [0., 0., 0., ..., 0., 0., 0.],\n",
       "       [0., 0., 0., ..., 0., 0., 0.]])"
      ]
     },
     "execution_count": 17,
     "metadata": {},
     "output_type": "execute_result"
    }
   ],
   "source": [
    "yt = snn.map(y)\n",
    "yt"
   ]
  },
  {
   "cell_type": "code",
   "execution_count": 18,
   "metadata": {
    "scrolled": true
   },
   "outputs": [
    {
     "name": "stdout",
     "output_type": "stream",
     "text": [
      "Train on 9000 samples, validate on 1000 samples\n",
      "Epoch 1/10\n",
      "9000/9000 [==============================] - 33s 4ms/step - loss: 0.1371 - val_loss: 0.1305\n",
      "Epoch 2/10\n",
      "9000/9000 [==============================] - 34s 4ms/step - loss: 0.0615 - val_loss: 0.1247\n",
      "Epoch 3/10\n",
      "9000/9000 [==============================] - 29s 3ms/step - loss: 0.0478 - val_loss: 0.1246\n",
      "Epoch 4/10\n",
      "9000/9000 [==============================] - 21s 2ms/step - loss: 0.0401 - val_loss: 0.1312\n",
      "Epoch 5/10\n",
      "9000/9000 [==============================] - 23s 3ms/step - loss: 0.0354 - val_loss: 0.1408\n",
      "Epoch 6/10\n",
      "9000/9000 [==============================] - 23s 3ms/step - loss: 0.0322 - val_loss: 0.1612\n",
      "Epoch 7/10\n",
      "9000/9000 [==============================] - 23s 3ms/step - loss: 0.0294 - val_loss: 0.1744\n",
      "Epoch 8/10\n",
      "9000/9000 [==============================] - 24s 3ms/step - loss: 0.0280 - val_loss: 0.1818\n",
      "Epoch 9/10\n",
      "9000/9000 [==============================] - 26s 3ms/step - loss: 0.0263 - val_loss: 0.1790\n",
      "Epoch 10/10\n",
      "9000/9000 [==============================] - 26s 3ms/step - loss: 0.0253 - val_loss: 0.1905\n"
     ]
    },
    {
     "data": {
      "text/plain": [
       "<keras.callbacks.History at 0x7fca9ef7d518>"
      ]
     },
     "execution_count": 18,
     "metadata": {},
     "output_type": "execute_result"
    }
   ],
   "source": [
    "snn_model.fit(Xt, yt, epochs=10, validation_split=0.1)"
   ]
  },
  {
   "cell_type": "code",
   "execution_count": 19,
   "metadata": {},
   "outputs": [
    {
     "data": {
      "text/plain": [
       "0.9894833333333334"
      ]
     },
     "execution_count": 19,
     "metadata": {},
     "output_type": "execute_result"
    }
   ],
   "source": [
    "yp = snn_model.predict(Xt)\n",
    "yp = (yp > 0.5).astype(int)\n",
    "(yp == yt).mean()"
   ]
  },
  {
   "cell_type": "code",
   "execution_count": 20,
   "metadata": {},
   "outputs": [],
   "source": [
    "snn_model.save('resources/imdb_onto.model')"
   ]
  },
  {
   "cell_type": "code",
   "execution_count": 21,
   "metadata": {},
   "outputs": [],
   "source": [
    "import pickle"
   ]
  },
  {
   "cell_type": "code",
   "execution_count": 22,
   "metadata": {},
   "outputs": [],
   "source": [
    "pickle.dump(cv, open('resources/imdb_onto_cv.pkl', 'wb'))"
   ]
  },
  {
   "cell_type": "code",
   "execution_count": null,
   "metadata": {},
   "outputs": [],
   "source": []
  }
 ],
 "metadata": {
  "kernelspec": {
   "display_name": "Python 3",
   "language": "python",
   "name": "python3"
  },
  "language_info": {
   "codemirror_mode": {
    "name": "ipython",
    "version": 3
   },
   "file_extension": ".py",
   "mimetype": "text/x-python",
   "name": "python",
   "nbconvert_exporter": "python",
   "pygments_lexer": "ipython3",
   "version": "3.7.0"
  }
 },
 "nbformat": 4,
 "nbformat_minor": 2
}
