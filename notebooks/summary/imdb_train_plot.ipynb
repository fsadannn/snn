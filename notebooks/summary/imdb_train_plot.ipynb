{
 "cells": [
  {
   "cell_type": "code",
   "execution_count": 56,
   "metadata": {},
   "outputs": [],
   "source": [
    "import pydot\n",
    "import json\n",
    "import pickle\n",
    "import pandas as pd\n",
    "import numpy as np\n",
    "from keras.layers import Dense, Input, Concatenate\n",
    "from sklearn.feature_extraction.text import CountVectorizer\n",
    "from keras.models import Model, load_model\n",
    "\n",
    "from snn import SNN, Entity, Relation\n",
    "from snn.utils import RelationLayer, EntityLayer"
   ]
  },
  {
   "cell_type": "code",
   "execution_count": 57,
   "metadata": {},
   "outputs": [],
   "source": [
    "Person = Entity(\"Person\")\n",
    "Movie = Entity(\"Movie\")\n",
    "\n",
    "df = pd.read_csv(\"../data/relations.tsv\", sep=\"\\t\", names=['Movie', 'Relation', 'Person'], nrows=10000)\n",
    "relations = [Relation(label=l, dst=Person, src=Movie) for l in df['Relation'].unique()]\n",
    "entities = [Person, Movie]"
   ]
  },
  {
   "cell_type": "code",
   "execution_count": 58,
   "metadata": {},
   "outputs": [],
   "source": [
    "ttt = json.load(open('outs/IMDB_ONTO_EMBEDING_NEW_data.json'))\n",
    "vocab = ttt['vocabulary']\n",
    "del ttt"
   ]
  },
  {
   "cell_type": "code",
   "execution_count": 59,
   "metadata": {},
   "outputs": [],
   "source": [
    "cv = CountVectorizer(vocabulary=vocab)"
   ]
  },
  {
   "cell_type": "code",
   "execution_count": 60,
   "metadata": {},
   "outputs": [],
   "source": [
    "# cv =  pickle.load(open(r'resources/imdb_onto_cv.pkl', 'rb'))"
   ]
  },
  {
   "cell_type": "code",
   "execution_count": 61,
   "metadata": {},
   "outputs": [],
   "source": [
    "modelonto = load_model('resources/imdb_onto.model', custom_objects={'RelationLayer':RelationLayer, \n",
    "                                                              'EntityLayer': EntityLayer})"
   ]
  },
  {
   "cell_type": "code",
   "execution_count": 62,
   "metadata": {},
   "outputs": [
    {
     "data": {
      "text/plain": [
       "117174"
      ]
     },
     "execution_count": 62,
     "metadata": {},
     "output_type": "execute_result"
    }
   ],
   "source": [
    "sentence_size = len(vocab)#modelonto.input_shape[1]\n",
    "neurons_per_ent = 5\n",
    "neurons_per_rel = 2*neurons_per_ent\n",
    "sentence_size"
   ]
  },
  {
   "cell_type": "code",
   "execution_count": 63,
   "metadata": {},
   "outputs": [],
   "source": [
    "input_plot = Input(shape=(sentence_size,), name='input_plot')\n",
    "input_title = Input(shape=(sentence_size,), name='input_title')"
   ]
  },
  {
   "cell_type": "code",
   "execution_count": 64,
   "metadata": {},
   "outputs": [],
   "source": [
    "snn = SNN(entities=entities, relations=relations)#(sentence_input,neurons_per_ent,neurons_per_rel)\n",
    "output = snn(input_plot)\n",
    "prmodel = snn.build(input_plot)"
   ]
  },
  {
   "cell_type": "code",
   "execution_count": 65,
   "metadata": {},
   "outputs": [],
   "source": [
    "def copy_weights(model):\n",
    "    for i in model.layers:\n",
    "        if i.weights and i.name:\n",
    "            try:\n",
    "                tt = modelonto.get_layer(i.name)\n",
    "            except ValueError:\n",
    "                continue\n",
    "            i.set_weights(tt.get_weights())"
   ]
  },
  {
   "cell_type": "code",
   "execution_count": 66,
   "metadata": {},
   "outputs": [],
   "source": [
    "copy_weights(prmodel)\n",
    "# prmodel.trainable = False"
   ]
  },
  {
   "cell_type": "code",
   "execution_count": 67,
   "metadata": {},
   "outputs": [],
   "source": [
    "x = Concatenate()([prmodel(input_plot), input_title])\n",
    "\n",
    "ll = len(entities)*neurons_per_ent + len(relations)*neurons_per_rel\n",
    "x = Dense(ll, activation='relu')(x)\n",
    "x = Dense(8*ll//10, activation='relu')(x)\n",
    "x = Dense(8*ll//10, activation='relu')(x)\n",
    "output = Dense(1, activation='sigmoid', name='out')(x)\n",
    "\n",
    "model = Model(inputs=[input_plot, input_title], outputs=output)\n",
    "model.compile(optimizer='RMSprop', loss='binary_crossentropy')"
   ]
  },
  {
   "cell_type": "code",
   "execution_count": 68,
   "metadata": {},
   "outputs": [],
   "source": [
    "del modelonto"
   ]
  },
  {
   "cell_type": "code",
   "execution_count": 69,
   "metadata": {},
   "outputs": [],
   "source": [
    "from IPython.display import SVG\n",
    "from keras.utils.vis_utils import model_to_dot\n",
    "\n",
    "mm = model_to_dot(model, rankdir='LR').create(prog='dot', format='pdf')\n",
    "with open('outs/imdb_onto.pdf','wb') as f:\n",
    "    f.write(mm)"
   ]
  },
  {
   "cell_type": "code",
   "execution_count": 70,
   "metadata": {},
   "outputs": [
    {
     "name": "stdout",
     "output_type": "stream",
     "text": [
      "__________________________________________________________________________________________________\n",
      "Layer (type)                    Output Shape         Param #     Connected to                     \n",
      "==================================================================================================\n",
      "input_plot (InputLayer)         (None, 117174)       0                                            \n",
      "__________________________________________________________________________________________________\n",
      "model_3 (Model)                 (None, 12)           7564748     input_plot[0][0]                 \n",
      "__________________________________________________________________________________________________\n",
      "input_title (InputLayer)        (None, 117174)       0                                            \n",
      "__________________________________________________________________________________________________\n",
      "concatenate_2 (Concatenate)     (None, 117186)       0           model_3[1][0]                    \n",
      "                                                                 input_title[0][0]                \n",
      "__________________________________________________________________________________________________\n",
      "dense_4 (Dense)                 (None, 110)          12890570    concatenate_2[0][0]              \n",
      "__________________________________________________________________________________________________\n",
      "dense_5 (Dense)                 (None, 88)           9768        dense_4[0][0]                    \n",
      "__________________________________________________________________________________________________\n",
      "dense_6 (Dense)                 (None, 88)           7832        dense_5[0][0]                    \n",
      "__________________________________________________________________________________________________\n",
      "out (Dense)                     (None, 1)            89          dense_6[0][0]                    \n",
      "==================================================================================================\n",
      "Total params: 20,473,007\n",
      "Trainable params: 20,473,007\n",
      "Non-trainable params: 0\n",
      "__________________________________________________________________________________________________\n"
     ]
    }
   ],
   "source": [
    "model.summary()"
   ]
  },
  {
   "cell_type": "code",
   "execution_count": 71,
   "metadata": {},
   "outputs": [],
   "source": [
    "import pickle"
   ]
  },
  {
   "cell_type": "code",
   "execution_count": 72,
   "metadata": {},
   "outputs": [],
   "source": [
    "xtrain = pickle.load(open('resources/xtrain.pkl','rb'))\n",
    "ytrain = pickle.load(open('resources/ytrain.pkl','rb'))\n",
    "xtest = pickle.load(open('resources/xtest.pkl','rb'))\n",
    "ytest = pickle.load(open('resources/ytest.pkl','rb'))"
   ]
  },
  {
   "cell_type": "code",
   "execution_count": 73,
   "metadata": {},
   "outputs": [],
   "source": [
    "input1 = cv.transform(xtrain[0])\n",
    "input2 = cv.transform(xtrain[1])"
   ]
  },
  {
   "cell_type": "code",
   "execution_count": null,
   "metadata": {},
   "outputs": [
    {
     "name": "stdout",
     "output_type": "stream",
     "text": [
      "Epoch 1/5\n",
      "63866/63866 [==============================] - 677s 11ms/step - loss: 0.6934\n",
      "Epoch 2/5\n",
      "49856/63866 [======================>.......] - ETA: 3:19 - loss: 0.6933"
     ]
    }
   ],
   "source": [
    "model.fit({'input_plot': input1, 'input_title': input2}, ytrain, epochs=5)"
   ]
  },
  {
   "cell_type": "code",
   "execution_count": null,
   "metadata": {},
   "outputs": [],
   "source": [
    "model.save('resources/imdb_problem.model')"
   ]
  },
  {
   "cell_type": "code",
   "execution_count": null,
   "metadata": {},
   "outputs": [],
   "source": [
    "plots = xtest[0]\n",
    "titles = xtest[1]"
   ]
  },
  {
   "cell_type": "code",
   "execution_count": null,
   "metadata": {},
   "outputs": [],
   "source": [
    "N = 2\n",
    "K = 1"
   ]
  },
  {
   "cell_type": "code",
   "execution_count": null,
   "metadata": {},
   "outputs": [],
   "source": [
    "len(plots)"
   ]
  },
  {
   "cell_type": "code",
   "execution_count": null,
   "metadata": {},
   "outputs": [],
   "source": [
    "def correct_answer(ranking):\n",
    "    return any(rank[1] == 1 for rank in ranking[:K])"
   ]
  },
  {
   "cell_type": "code",
   "execution_count": null,
   "metadata": {},
   "outputs": [],
   "source": [
    "total = 0"
   ]
  },
  {
   "cell_type": "code",
   "execution_count": null,
   "metadata": {},
   "outputs": [],
   "source": [
    "for i in range(0, len(plots), N):\n",
    "    input1 = cv.transform(plots[i:i+N])\n",
    "    input2 = cv.transform(titles[i:i+N])\n",
    "    pd = model.predict([input1, input2])\n",
    "    response = zip([item[0] for item in pd], ytest[i:i+N])\n",
    "    ranking = sorted(response, key=lambda x: x[0], reverse=True)\n",
    "    total += int(correct_answer(ranking))"
   ]
  },
  {
   "cell_type": "code",
   "execution_count": null,
   "metadata": {},
   "outputs": [],
   "source": [
    "mean = total / (len(plots)/N)\n",
    "mean"
   ]
  },
  {
   "cell_type": "code",
   "execution_count": null,
   "metadata": {},
   "outputs": [],
   "source": []
  }
 ],
 "metadata": {
  "kernelspec": {
   "display_name": "Python 3",
   "language": "python",
   "name": "python3"
  },
  "language_info": {
   "codemirror_mode": {
    "name": "ipython",
    "version": 3
   },
   "file_extension": ".py",
   "mimetype": "text/x-python",
   "name": "python",
   "nbconvert_exporter": "python",
   "pygments_lexer": "ipython3",
   "version": "3.7.0"
  }
 },
 "nbformat": 4,
 "nbformat_minor": 2
}
