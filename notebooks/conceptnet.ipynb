{
 "cells": [
  {
   "cell_type": "code",
   "execution_count": 4,
   "metadata": {},
   "outputs": [],
   "source": [
    "import networkx as nx\n",
    "import pandas as pd\n",
    "import tqdm"
   ]
  },
  {
   "cell_type": "code",
   "execution_count": 21,
   "metadata": {},
   "outputs": [
    {
     "name": "stderr",
     "output_type": "stream",
     "text": [
      "100%|██████████| 1000000/1000000 [00:01<00:00, 690036.72it/s]\n",
      "100%|██████████| 1000000/1000000 [00:01<00:00, 699057.89it/s]\n",
      "100%|██████████| 1000000/1000000 [00:01<00:00, 715292.45it/s]\n",
      "100%|██████████| 1000000/1000000 [00:01<00:00, 682511.59it/s]\n",
      "100%|██████████| 1000000/1000000 [00:01<00:00, 737087.32it/s]\n",
      "100%|██████████| 1000000/1000000 [00:01<00:00, 723431.14it/s]\n",
      "100%|██████████| 1000000/1000000 [00:01<00:00, 729460.03it/s]\n",
      "100%|██████████| 1000000/1000000 [00:01<00:00, 752181.78it/s]\n",
      "100%|██████████| 1000000/1000000 [00:01<00:00, 763609.39it/s]\n",
      "100%|██████████| 1000000/1000000 [00:01<00:00, 746730.27it/s]\n",
      "100%|██████████| 1000000/1000000 [00:01<00:00, 703273.12it/s]\n",
      "100%|██████████| 1000000/1000000 [00:01<00:00, 656812.79it/s]\n",
      "100%|██████████| 1000000/1000000 [00:02<00:00, 495615.76it/s]\n",
      "100%|██████████| 1000000/1000000 [00:01<00:00, 700057.93it/s]\n",
      "100%|██████████| 1000000/1000000 [00:01<00:00, 751892.41it/s]\n",
      "100%|██████████| 1000000/1000000 [00:01<00:00, 732880.56it/s]\n",
      "100%|██████████| 1000000/1000000 [00:03<00:00, 292517.34it/s]\n",
      "100%|██████████| 1000000/1000000 [00:01<00:00, 739114.36it/s]\n",
      "100%|██████████| 1000000/1000000 [00:01<00:00, 629463.95it/s]\n",
      "100%|██████████| 1000000/1000000 [00:01<00:00, 649460.16it/s]\n",
      "100%|██████████| 1000000/1000000 [00:01<00:00, 759523.00it/s]\n",
      "100%|██████████| 1000000/1000000 [00:01<00:00, 733977.73it/s]\n",
      "100%|██████████| 1000000/1000000 [00:01<00:00, 772111.46it/s]\n",
      "100%|██████████| 1000000/1000000 [00:01<00:00, 738261.72it/s]\n",
      "100%|██████████| 1000000/1000000 [00:01<00:00, 718889.62it/s]\n",
      "100%|██████████| 1000000/1000000 [00:01<00:00, 636247.62it/s]\n",
      "100%|██████████| 1000000/1000000 [00:01<00:00, 612053.66it/s]\n",
      "100%|██████████| 1000000/1000000 [00:01<00:00, 659421.73it/s]\n",
      "100%|██████████| 1000000/1000000 [00:01<00:00, 665534.57it/s]\n",
      "100%|██████████| 1000000/1000000 [00:01<00:00, 749661.03it/s]\n",
      "100%|██████████| 1000000/1000000 [00:01<00:00, 731230.92it/s]\n",
      "100%|██████████| 1000000/1000000 [00:01<00:00, 733620.97it/s]\n",
      " 76%|███████▌  | 755210/1000000 [00:01<00:00, 681952.56it/s]\n"
     ]
    }
   ],
   "source": [
    "df = pd.read_table(\"../data/conceptnet-assertions-5.6.0.csv.gz\", compression='gzip', chunksize=1000000, names=['url', 'relation', 'start', 'end', 'data'])\n",
    "\n",
    "G = nx.DiGraph()\n",
    "\n",
    "for chunk in df:    \n",
    "    for row in tqdm.tqdm(chunk.itertuples(), total=1000000):\n",
    "        start = row.start\n",
    "        end = row.end\n",
    "        rel = row.relation\n",
    "        \n",
    "        if not start.startswith(\"/c/en\") or not end.startswith(\"/c/en\"):\n",
    "            continue\n",
    "        \n",
    "        if rel == '/r/IsA':\n",
    "            G.add_edge(start, end)"
   ]
  },
  {
   "cell_type": "code",
   "execution_count": 22,
   "metadata": {},
   "outputs": [],
   "source": [
    "nx.write_gexf(G, \"../data/conceptnet.gexf\")"
   ]
  },
  {
   "cell_type": "code",
   "execution_count": 23,
   "metadata": {},
   "outputs": [],
   "source": [
    "scores = nx.pagerank(G)"
   ]
  },
  {
   "cell_type": "code",
   "execution_count": 24,
   "metadata": {},
   "outputs": [],
   "source": [
    "from heapq import nlargest"
   ]
  },
  {
   "cell_type": "code",
   "execution_count": 38,
   "metadata": {},
   "outputs": [],
   "source": [
    "best_nodes = nlargest(iterable=scores, key=scores.get, n=200)\n",
    "gbest = nx.DiGraph()\n",
    "\n",
    "for src,dst in G.edges:\n",
    "    if src not in best_nodes or dst not in best_nodes:\n",
    "        continue\n",
    "        \n",
    "    if scores[src] < scores[dst]:\n",
    "        gbest.add_edge(src.split('/')[3], dst.split('/')[3])"
   ]
  },
  {
   "cell_type": "code",
   "execution_count": 42,
   "metadata": {},
   "outputs": [],
   "source": [
    "dot = nx.nx_pydot.to_pydot(gbest)\n",
    "dot.set_rankdir(\"LR\")\n",
    "dot.write_pdf(\"../data/conceptnet.pdf\")"
   ]
  },
  {
   "cell_type": "code",
   "execution_count": 43,
   "metadata": {},
   "outputs": [],
   "source": [
    "nx.write_gexf(gbest, \"../data/concepnet-best.gexf\")"
   ]
  },
  {
   "cell_type": "code",
   "execution_count": null,
   "metadata": {},
   "outputs": [],
   "source": []
  }
 ],
 "metadata": {
  "kernelspec": {
   "display_name": "Python 3",
   "language": "python",
   "name": "python3"
  },
  "language_info": {
   "codemirror_mode": {
    "name": "ipython",
    "version": 3
   },
   "file_extension": ".py",
   "mimetype": "text/x-python",
   "name": "python",
   "nbconvert_exporter": "python",
   "pygments_lexer": "ipython3",
   "version": "3.5.2"
  }
 },
 "nbformat": 4,
 "nbformat_minor": 2
}
