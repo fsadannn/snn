{
 "cells": [
  {
   "cell_type": "code",
   "execution_count": 1,
   "metadata": {},
   "outputs": [
    {
     "name": "stderr",
     "output_type": "stream",
     "text": [
      "Using TensorFlow backend.\n"
     ]
    }
   ],
   "source": [
    "from keras.layers import Input\n",
    "from keras.models import Model"
   ]
  },
  {
   "cell_type": "code",
   "execution_count": 2,
   "metadata": {},
   "outputs": [],
   "source": [
    "from snn.base_model import SNN\n",
    "from snn import Entity, Relation"
   ]
  },
  {
   "cell_type": "code",
   "execution_count": 3,
   "metadata": {},
   "outputs": [],
   "source": [
    "Thing = Entity(\"Thing\")\n",
    "Person = Entity(\"Person\", Thing)\n",
    "Object = Entity(\"Object\", Thing)\n",
    "\n",
    "hold = Relation(\"hold\", Person, Object)\n",
    "look = Relation(\"look\", Person, Object)"
   ]
  },
  {
   "cell_type": "code",
   "execution_count": 4,
   "metadata": {},
   "outputs": [],
   "source": [
    "snn = SNN(entities=[Thing, Person, Object], relations=[hold, look])"
   ]
  },
  {
   "cell_type": "code",
   "execution_count": 5,
   "metadata": {},
   "outputs": [],
   "source": [
    "x = Input(shape=(100,))\n",
    "y = snn(x, compiled=True)"
   ]
  },
  {
   "cell_type": "code",
   "execution_count": 7,
   "metadata": {},
   "outputs": [
    {
     "name": "stdout",
     "output_type": "stream",
     "text": [
      "__________________________________________________________________________________________________\n",
      "Layer (type)                    Output Shape         Param #     Connected to                     \n",
      "==================================================================================================\n",
      "input_1 (InputLayer)            (None, 100)          0                                            \n",
      "__________________________________________________________________________________________________\n",
      "Object (Entitie)                (None, 32)           4288        input_1[0][0]                    \n",
      "__________________________________________________________________________________________________\n",
      "Person (Entitie)                (None, 32)           4288        input_1[0][0]                    \n",
      "__________________________________________________________________________________________________\n",
      "max_Person_Object (Maximum)     (None, 32)           0           Person[0][0]                     \n",
      "                                                                 Object[0][0]                     \n",
      "__________________________________________________________________________________________________\n",
      "Person_Object_isa_Thing (Dense) (None, 32)           1056        max_Person_Object[0][0]          \n",
      "__________________________________________________________________________________________________\n",
      "Thing (Entitie)                 (None, 32)           2112        Person_Object_isa_Thing[0][0]    \n",
      "__________________________________________________________________________________________________\n",
      "hold (Relation)                 (None, 32)           2112        Person[0][0]                     \n",
      "                                                                 Object[0][0]                     \n",
      "__________________________________________________________________________________________________\n",
      "look (Relation)                 (None, 32)           2112        Person[0][0]                     \n",
      "                                                                 Object[0][0]                     \n",
      "__________________________________________________________________________________________________\n",
      "out_embeding (Concatenate)      (None, 160)          0           Object[0][0]                     \n",
      "                                                                 Person[0][0]                     \n",
      "                                                                 Thing[0][0]                      \n",
      "                                                                 hold[0][0]                       \n",
      "                                                                 look[0][0]                       \n",
      "==================================================================================================\n",
      "Total params: 15,968\n",
      "Trainable params: 15,968\n",
      "Non-trainable params: 0\n",
      "__________________________________________________________________________________________________\n"
     ]
    }
   ],
   "source": [
    "y.summary()"
   ]
  },
  {
   "cell_type": "code",
   "execution_count": 9,
   "metadata": {},
   "outputs": [
    {
     "data": {
      "text/plain": [
       "(None, 160)"
      ]
     },
     "execution_count": 9,
     "metadata": {},
     "output_type": "execute_result"
    }
   ],
   "source": [
    "y.output_shape"
   ]
  }
 ],
 "metadata": {
  "kernelspec": {
   "display_name": "Python 3",
   "language": "python",
   "name": "python3"
  },
  "language_info": {
   "codemirror_mode": {
    "name": "ipython",
    "version": 3
   },
   "file_extension": ".py",
   "mimetype": "text/x-python",
   "name": "python",
   "nbconvert_exporter": "python",
   "pygments_lexer": "ipython3",
   "version": "3.5.2"
  }
 },
 "nbformat": 4,
 "nbformat_minor": 2
}
